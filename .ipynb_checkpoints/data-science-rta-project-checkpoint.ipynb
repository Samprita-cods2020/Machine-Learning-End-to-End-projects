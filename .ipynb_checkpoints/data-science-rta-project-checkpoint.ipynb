{
 "cells": [
  {
   "cell_type": "markdown",
   "metadata": {
    "papermill": {
     "duration": 0.045613,
     "end_time": "2021-02-13T00:42:18.481025",
     "exception": false,
     "start_time": "2021-02-13T00:42:18.435412",
     "status": "completed"
    },
    "tags": []
   },
   "source": [
    "# RTA project <a class=\"anchor\" id=\"UP\"></a>"
   ]
  },
  {
   "cell_type": "markdown",
   "metadata": {
    "papermill": {
     "duration": 0.041558,
     "end_time": "2021-02-13T00:42:18.564927",
     "exception": false,
     "start_time": "2021-02-13T00:42:18.523369",
     "status": "completed"
    },
    "tags": []
   },
   "source": [
    "* [Imports](#imports)\n",
    "* [Inner functions](#func)\n",
    "* [Read data](#read)\n",
    "* [Prepare data](#prepare)\n",
    "    * [drop columns](#drop)\n",
    "    * [fill empty values](#fill)\n",
    "    * [map to numric](#map)\n",
    "* [Split data to train and test](#split)\n",
    "* [ML model](#models)\n",
    "    * [DT](#DT)\n",
    "    * [RF](#RF)\n",
    "* [Handle Imbalance](#handle)\n",
    "    * [balanced models](#modelsBalanced)\n",
    "    * [Under Sample](#US)\n",
    "    * [Over Sample](#OS)\n",
    "* [Select K best](#kBest)\n",
    "* [Select K best with Over Sample](#kBestOS)\n",
    "* [Cross validation](#CV)\n"
   ]
  },
  {
   "cell_type": "markdown",
   "metadata": {
    "papermill": {
     "duration": 0.041951,
     "end_time": "2021-02-13T00:42:18.648728",
     "exception": false,
     "start_time": "2021-02-13T00:42:18.606777",
     "status": "completed"
    },
    "tags": []
   },
   "source": [
    "This project uses ML to help to identify the severity of a road accident.\n",
    "\n",
    "The selected dataset contains extensive and rich information regarding road accidents that have occurred in Addis Ababa City for 3 years. \n",
    "The dataset contains 32 features and more than 12K records. \n",
    "Each record represents road accident details, including driver’s details\n",
    "\n",
    "The target attribute is ‘Accident_severity’, which contains 3 categorical  possible values, the values indicate on an accident injury severity: Slight, Serious, Fatal. \n",
    "\n"
   ]
  },
  {
   "cell_type": "markdown",
   "metadata": {
    "papermill": {
     "duration": 0.041651,
     "end_time": "2021-02-13T00:42:18.732316",
     "exception": false,
     "start_time": "2021-02-13T00:42:18.690665",
     "status": "completed"
    },
    "tags": []
   },
   "source": [
    "# Imports <a class=\"anchor\" id=\"imports\"></a>"
   ]
  },
  {
   "cell_type": "code",
   "execution_count": 1,
   "metadata": {
    "_cell_guid": "b1076dfc-b9ad-4769-8c92-a6c4dae69d19",
    "_uuid": "8f2839f25d086af736a60e9eeb907d3b93b6e0e5",
    "execution": {
     "iopub.execute_input": "2021-02-13T00:42:18.826381Z",
     "iopub.status.busy": "2021-02-13T00:42:18.825704Z",
     "iopub.status.idle": "2021-02-13T00:42:20.358621Z",
     "shell.execute_reply": "2021-02-13T00:42:20.357715Z"
    },
    "papermill": {
     "duration": 1.583664,
     "end_time": "2021-02-13T00:42:20.358840",
     "exception": false,
     "start_time": "2021-02-13T00:42:18.775176",
     "status": "completed"
    },
    "tags": []
   },
   "outputs": [],
   "source": [
    "import numpy as np # linear algebra\n",
    "import pandas as pd # data processing, CSV file I/O (e.g. pd.read_csv)\n",
    "from numpy import mean\n",
    "\n",
    "import os\n",
    "import matplotlib.pyplot as plot\n",
    "\n",
    "from sklearn.tree import DecisionTreeClassifier\n",
    "from sklearn.ensemble import RandomForestClassifier\n",
    "\n",
    "from sklearn.feature_selection import SelectKBest, chi2\n",
    "\n",
    "from sklearn.model_selection import train_test_split\n",
    "from sklearn.metrics import accuracy_score, f1_score, recall_score, precision_score\n",
    "from sklearn.metrics import confusion_matrix, plot_confusion_matrix\n",
    "\n",
    "from imblearn.ensemble import BalancedRandomForestClassifier\n",
    "from imblearn.over_sampling import SMOTE\n",
    "from imblearn.under_sampling import NearMiss \n",
    "from imblearn.under_sampling import RandomUnderSampler\n",
    "\n",
    "from sklearn.model_selection import cross_val_score\n",
    "from sklearn.model_selection import RepeatedStratifiedKFold\n",
    "\n",
    "import seaborn as sns # visualization\n",
    "import matplotlib.pyplot as plt # visualization"
   ]
  },
  {
   "cell_type": "markdown",
   "metadata": {
    "papermill": {
     "duration": 0.043628,
     "end_time": "2021-02-13T00:42:20.444977",
     "exception": false,
     "start_time": "2021-02-13T00:42:20.401349",
     "status": "completed"
    },
    "tags": []
   },
   "source": [
    "# my functions: <a class=\"anchor\" id=\"func\"></a>"
   ]
  },
  {
   "cell_type": "markdown",
   "metadata": {
    "papermill": {
     "duration": 0.045871,
     "end_time": "2021-02-13T00:42:20.533864",
     "exception": false,
     "start_time": "2021-02-13T00:42:20.487993",
     "status": "completed"
    },
    "tags": []
   },
   "source": [
    "wrote few functions for convenience"
   ]
  },
  {
   "cell_type": "code",
   "execution_count": 2,
   "metadata": {
    "execution": {
     "iopub.execute_input": "2021-02-13T00:42:20.628553Z",
     "iopub.status.busy": "2021-02-13T00:42:20.627515Z",
     "iopub.status.idle": "2021-02-13T00:42:20.630896Z",
     "shell.execute_reply": "2021-02-13T00:42:20.630223Z"
    },
    "papermill": {
     "duration": 0.050253,
     "end_time": "2021-02-13T00:42:20.631042",
     "exception": false,
     "start_time": "2021-02-13T00:42:20.580789",
     "status": "completed"
    },
    "tags": []
   },
   "outputs": [],
   "source": [
    "#constants:\n",
    "\n",
    "seed = 7\n",
    "testSize = 0.35"
   ]
  },
  {
   "cell_type": "code",
   "execution_count": 3,
   "metadata": {
    "execution": {
     "iopub.execute_input": "2021-02-13T00:42:20.723005Z",
     "iopub.status.busy": "2021-02-13T00:42:20.722020Z",
     "iopub.status.idle": "2021-02-13T00:42:20.725665Z",
     "shell.execute_reply": "2021-02-13T00:42:20.725057Z"
    },
    "papermill": {
     "duration": 0.051952,
     "end_time": "2021-02-13T00:42:20.725827",
     "exception": false,
     "start_time": "2021-02-13T00:42:20.673875",
     "status": "completed"
    },
    "tags": []
   },
   "outputs": [],
   "source": [
    "#save accs score to compare later\n",
    "DT_scores = {}\n",
    "RF_scores = {}"
   ]
  },
  {
   "cell_type": "code",
   "execution_count": 4,
   "metadata": {
    "execution": {
     "iopub.execute_input": "2021-02-13T00:42:20.821095Z",
     "iopub.status.busy": "2021-02-13T00:42:20.820105Z",
     "iopub.status.idle": "2021-02-13T00:42:20.823478Z",
     "shell.execute_reply": "2021-02-13T00:42:20.822930Z"
    },
    "papermill": {
     "duration": 0.053534,
     "end_time": "2021-02-13T00:42:20.823641",
     "exception": false,
     "start_time": "2021-02-13T00:42:20.770107",
     "status": "completed"
    },
    "tags": []
   },
   "outputs": [],
   "source": [
    "def accuracyCheck(y_test, preds, printMe):\n",
    "    toRet={}\n",
    "    accuracy1 = accuracy_score(y_test, preds) * 100\n",
    "    \n",
    "    if printMe:\n",
    "        print('Accuracy accuracy_score:', round(accuracy1, 2), '%.')\n",
    "    \n",
    "#     avg_options = ['macro', 'weighted']\n",
    "    avg_options = ['weighted']\n",
    "\n",
    "    for i in range(0, len(avg_options)):\n",
    "        avg = avg_options[i]\n",
    "        accuracy2 = round(f1_score(y_test, preds, average=avg) * 100, 2)\n",
    "        \n",
    "        if printMe:\n",
    "            print(\"\\n(\", avg, \"avg):\")\n",
    "            print('Accuracy f1_score:', accuracy2, '%.')\n",
    "\n",
    "        name = avg + \"_f1\"\n",
    "        toRet[name] = accuracy2\n",
    "\n",
    "    return toRet\n"
   ]
  },
  {
   "cell_type": "code",
   "execution_count": 5,
   "metadata": {
    "execution": {
     "iopub.execute_input": "2021-02-13T00:42:20.918874Z",
     "iopub.status.busy": "2021-02-13T00:42:20.918048Z",
     "iopub.status.idle": "2021-02-13T00:42:20.921008Z",
     "shell.execute_reply": "2021-02-13T00:42:20.920367Z"
    },
    "papermill": {
     "duration": 0.055,
     "end_time": "2021-02-13T00:42:20.921151",
     "exception": false,
     "start_time": "2021-02-13T00:42:20.866151",
     "status": "completed"
    },
    "tags": []
   },
   "outputs": [],
   "source": [
    "def fit_predict(model, X_train, y_train):\n",
    "    class_names = y_rta.unique()\n",
    "\n",
    "    model.fit(X_train, y_train)\n",
    "    preds = model.predict(X_test)\n",
    "    accs = accuracyCheck(y_test, preds, True)\n",
    "    \n",
    "    fig, ax = plt.subplots(figsize=(5, 5))\n",
    "    plot_confusion_matrix(model, X_test, y_test, normalize='true', cmap=plt.cm.Blues,display_labels=class_names, ax=ax)\n",
    "    plt.show()\n",
    "    \n",
    "    return accs\n",
    "    \n",
    "def Kbest_fit_predict(model, X_train, y_train, X_test, y_test, printMatrix):\n",
    "    class_names = y_rta.unique()\n",
    "\n",
    "    model.fit(X_train, y_train)\n",
    "    preds = model.predict(X_test)\n",
    "    accs = accuracyCheck(y_test, preds, False)\n",
    "    \n",
    "    if printMatrix:\n",
    "        fig, ax = plt.subplots(figsize=(5, 5))\n",
    "        plot_confusion_matrix(model, X_test, y_test, normalize='true', cmap=plt.cm.Blues,display_labels=class_names, ax=ax)\n",
    "        plt.show()\n",
    "    \n",
    "    return accs\n",
    "\n",
    "\n",
    "#     print(confusion_matrix(y_test, preds))"
   ]
  },
  {
   "cell_type": "code",
   "execution_count": 6,
   "metadata": {
    "execution": {
     "iopub.execute_input": "2021-02-13T00:42:21.018498Z",
     "iopub.status.busy": "2021-02-13T00:42:21.017843Z",
     "iopub.status.idle": "2021-02-13T00:42:21.021100Z",
     "shell.execute_reply": "2021-02-13T00:42:21.020618Z"
    },
    "papermill": {
     "duration": 0.056215,
     "end_time": "2021-02-13T00:42:21.021240",
     "exception": false,
     "start_time": "2021-02-13T00:42:20.965025",
     "status": "completed"
    },
    "tags": []
   },
   "outputs": [],
   "source": [
    "# choose model Random Forest:\n",
    "def RF_fitPredict(X_train, y_train):\n",
    "    model = RandomForestClassifier()\n",
    "    return fit_predict(model, X_train, y_train)\n",
    "    \n",
    "# choose model Decision Tree:\n",
    "def DT_fitPredict(X_train, y_train):\n",
    "    model = DecisionTreeClassifier()\n",
    "    return fit_predict(model, X_train, y_train)\n",
    "\n",
    "# choose model Balanced Decision Tree:\n",
    "def BalancedDT_fitPredict(X_train, y_train):    \n",
    "    model = DecisionTreeClassifier(class_weight='balanced')\n",
    "    return fit_predict(model, X_train, y_train)\n",
    "\n",
    "# choose model Balanced Random Forest:\n",
    "def BalancedRF_fitPredict(X_train, y_train):\n",
    "    model = BalancedRandomForestClassifier(max_depth=3, random_state=0, n_jobs=8)\n",
    "    return fit_predict(model, X_train, y_train)\n",
    "    \n",
    "# choose model Random Forest:\n",
    "def Kbest_RF_fitPredict(X_train, y_train, X_test, y_test):\n",
    "    model = RandomForestClassifier()\n",
    "    return Kbest_fit_predict(model, X_train, y_train, X_test, y_test, False)\n",
    "    \n",
    "# choose model Decision Tree:\n",
    "def Kbest_DT_fitPredict(X_train, y_train, X_test, y_test):\n",
    "    model = DecisionTreeClassifier()\n",
    "    return Kbest_fit_predict(model, X_train, y_train, X_test, y_test, False)"
   ]
  },
  {
   "cell_type": "code",
   "execution_count": 7,
   "metadata": {
    "execution": {
     "iopub.execute_input": "2021-02-13T00:42:21.119774Z",
     "iopub.status.busy": "2021-02-13T00:42:21.119058Z",
     "iopub.status.idle": "2021-02-13T00:42:21.121765Z",
     "shell.execute_reply": "2021-02-13T00:42:21.122191Z"
    },
    "papermill": {
     "duration": 0.05402,
     "end_time": "2021-02-13T00:42:21.122360",
     "exception": false,
     "start_time": "2021-02-13T00:42:21.068340",
     "status": "completed"
    },
    "tags": []
   },
   "outputs": [],
   "source": [
    "# split to train and test:\n",
    "\n",
    "def splitTrainTest(X, y):\n",
    "    return train_test_split(X, y, test_size=testSize, random_state=seed)\n",
    "\n",
    "def showValueCount(col):\n",
    "    col.value_counts(dropna=False).plot.bar(figsize=(4,4))\n",
    "    \n",
    "def crossValidation(model, X, y):\n",
    "    cv = RepeatedStratifiedKFold(n_splits=10, n_repeats=3, random_state=seed)\n",
    "    scores = cross_val_score(model, X, y, cv=cv)\n",
    "    print('Mean ROC AUC: %.3f' % mean(scores))\n",
    "    \n",
    "    # scores = cross_val_score(model, X_new, y_new, cv=5)\n",
    "    # print(\"%0.2f accuracy with a standard deviation of %0.2f\" % (scores.mean(), scores.std()))\n",
    "    \n",
    "    \n",
    "def DT_crossValidation(X, y):\n",
    "    model = DecisionTreeClassifier()\n",
    "    crossValidation(model, X, y)\n",
    "\n",
    "def RF_crossValidation(X, y):\n",
    "    model = RandomForestClassifier()\n",
    "    crossValidation(model, X, y)"
   ]
  },
  {
   "cell_type": "markdown",
   "metadata": {
    "papermill": {
     "duration": 0.04263,
     "end_time": "2021-02-13T00:42:21.207817",
     "exception": false,
     "start_time": "2021-02-13T00:42:21.165187",
     "status": "completed"
    },
    "tags": []
   },
   "source": [
    "# Read the data: <a class=\"anchor\" id=\"read\"></a>"
   ]
  },
  {
   "cell_type": "code",
   "execution_count": 8,
   "metadata": {
    "execution": {
     "iopub.execute_input": "2021-02-13T00:42:21.298672Z",
     "iopub.status.busy": "2021-02-13T00:42:21.298041Z",
     "iopub.status.idle": "2021-02-13T00:42:21.542117Z",
     "shell.execute_reply": "2021-02-13T00:42:21.542580Z"
    },
    "papermill": {
     "duration": 0.292108,
     "end_time": "2021-02-13T00:42:21.542759",
     "exception": false,
     "start_time": "2021-02-13T00:42:21.250651",
     "status": "completed"
    },
    "tags": []
   },
   "outputs": [
    {
     "data": {
      "text/html": [
       "<div>\n",
       "<style scoped>\n",
       "    .dataframe tbody tr th:only-of-type {\n",
       "        vertical-align: middle;\n",
       "    }\n",
       "\n",
       "    .dataframe tbody tr th {\n",
       "        vertical-align: top;\n",
       "    }\n",
       "\n",
       "    .dataframe thead th {\n",
       "        text-align: right;\n",
       "    }\n",
       "</style>\n",
       "<table border=\"1\" class=\"dataframe\">\n",
       "  <thead>\n",
       "    <tr style=\"text-align: right;\">\n",
       "      <th></th>\n",
       "      <th>Time</th>\n",
       "      <th>Day_of_week</th>\n",
       "      <th>Age_band_of_driver</th>\n",
       "      <th>Sex_of_driver</th>\n",
       "      <th>Educational_level</th>\n",
       "      <th>Vehicle_driver_relation</th>\n",
       "      <th>Driving_experience</th>\n",
       "      <th>Type_of_vehicle</th>\n",
       "      <th>Owner_of_vehicle</th>\n",
       "      <th>Service_year_of_vehicle</th>\n",
       "      <th>...</th>\n",
       "      <th>Vehicle_movement</th>\n",
       "      <th>Casualty_class</th>\n",
       "      <th>Sex_of_casualty</th>\n",
       "      <th>Age_band_of_casualty</th>\n",
       "      <th>Casualty_severity</th>\n",
       "      <th>Work_of_casuality</th>\n",
       "      <th>Fitness_of_casuality</th>\n",
       "      <th>Pedestrian_movement</th>\n",
       "      <th>Cause_of_accident</th>\n",
       "      <th>Accident_severity</th>\n",
       "    </tr>\n",
       "  </thead>\n",
       "  <tbody>\n",
       "    <tr>\n",
       "      <th>0</th>\n",
       "      <td>17:02:00</td>\n",
       "      <td>Monday</td>\n",
       "      <td>18-30</td>\n",
       "      <td>Male</td>\n",
       "      <td>Above high school</td>\n",
       "      <td>Employee</td>\n",
       "      <td>1-2yr</td>\n",
       "      <td>Automobile</td>\n",
       "      <td>Owner</td>\n",
       "      <td>Above 10yr</td>\n",
       "      <td>...</td>\n",
       "      <td>Going straight</td>\n",
       "      <td>na</td>\n",
       "      <td>na</td>\n",
       "      <td>na</td>\n",
       "      <td>na</td>\n",
       "      <td>NaN</td>\n",
       "      <td>NaN</td>\n",
       "      <td>Not a Pedestrian</td>\n",
       "      <td>Moving Backward</td>\n",
       "      <td>Slight Injury</td>\n",
       "    </tr>\n",
       "    <tr>\n",
       "      <th>1</th>\n",
       "      <td>17:02:00</td>\n",
       "      <td>Monday</td>\n",
       "      <td>31-50</td>\n",
       "      <td>Male</td>\n",
       "      <td>Junior high school</td>\n",
       "      <td>Employee</td>\n",
       "      <td>Above 10yr</td>\n",
       "      <td>Public (&gt; 45 seats)</td>\n",
       "      <td>Owner</td>\n",
       "      <td>5-10yrs</td>\n",
       "      <td>...</td>\n",
       "      <td>Going straight</td>\n",
       "      <td>na</td>\n",
       "      <td>na</td>\n",
       "      <td>na</td>\n",
       "      <td>na</td>\n",
       "      <td>NaN</td>\n",
       "      <td>NaN</td>\n",
       "      <td>Not a Pedestrian</td>\n",
       "      <td>Overtaking</td>\n",
       "      <td>Slight Injury</td>\n",
       "    </tr>\n",
       "    <tr>\n",
       "      <th>2</th>\n",
       "      <td>17:02:00</td>\n",
       "      <td>Monday</td>\n",
       "      <td>18-30</td>\n",
       "      <td>Male</td>\n",
       "      <td>Junior high school</td>\n",
       "      <td>Employee</td>\n",
       "      <td>1-2yr</td>\n",
       "      <td>Lorry (41?100Q)</td>\n",
       "      <td>Owner</td>\n",
       "      <td>NaN</td>\n",
       "      <td>...</td>\n",
       "      <td>Going straight</td>\n",
       "      <td>Driver or rider</td>\n",
       "      <td>Male</td>\n",
       "      <td>31-50</td>\n",
       "      <td>3</td>\n",
       "      <td>Driver</td>\n",
       "      <td>NaN</td>\n",
       "      <td>Not a Pedestrian</td>\n",
       "      <td>Changing lane to the left</td>\n",
       "      <td>Serious Injury</td>\n",
       "    </tr>\n",
       "    <tr>\n",
       "      <th>3</th>\n",
       "      <td>1:06:00</td>\n",
       "      <td>Sunday</td>\n",
       "      <td>18-30</td>\n",
       "      <td>Male</td>\n",
       "      <td>Junior high school</td>\n",
       "      <td>Employee</td>\n",
       "      <td>5-10yr</td>\n",
       "      <td>Public (&gt; 45 seats)</td>\n",
       "      <td>Governmental</td>\n",
       "      <td>NaN</td>\n",
       "      <td>...</td>\n",
       "      <td>Going straight</td>\n",
       "      <td>Pedestrian</td>\n",
       "      <td>Female</td>\n",
       "      <td>18-30</td>\n",
       "      <td>3</td>\n",
       "      <td>Driver</td>\n",
       "      <td>Normal</td>\n",
       "      <td>Not a Pedestrian</td>\n",
       "      <td>Changing lane to the right</td>\n",
       "      <td>Slight Injury</td>\n",
       "    </tr>\n",
       "    <tr>\n",
       "      <th>4</th>\n",
       "      <td>1:06:00</td>\n",
       "      <td>Sunday</td>\n",
       "      <td>18-30</td>\n",
       "      <td>Male</td>\n",
       "      <td>Junior high school</td>\n",
       "      <td>Employee</td>\n",
       "      <td>2-5yr</td>\n",
       "      <td>NaN</td>\n",
       "      <td>Owner</td>\n",
       "      <td>5-10yrs</td>\n",
       "      <td>...</td>\n",
       "      <td>Going straight</td>\n",
       "      <td>na</td>\n",
       "      <td>na</td>\n",
       "      <td>na</td>\n",
       "      <td>na</td>\n",
       "      <td>NaN</td>\n",
       "      <td>NaN</td>\n",
       "      <td>Not a Pedestrian</td>\n",
       "      <td>Overtaking</td>\n",
       "      <td>Slight Injury</td>\n",
       "    </tr>\n",
       "  </tbody>\n",
       "</table>\n",
       "<p>5 rows × 32 columns</p>\n",
       "</div>"
      ],
      "text/plain": [
       "       Time Day_of_week Age_band_of_driver Sex_of_driver   Educational_level  \\\n",
       "0  17:02:00      Monday              18-30          Male   Above high school   \n",
       "1  17:02:00      Monday              31-50          Male  Junior high school   \n",
       "2  17:02:00      Monday              18-30          Male  Junior high school   \n",
       "3   1:06:00      Sunday              18-30          Male  Junior high school   \n",
       "4   1:06:00      Sunday              18-30          Male  Junior high school   \n",
       "\n",
       "  Vehicle_driver_relation Driving_experience      Type_of_vehicle  \\\n",
       "0                Employee              1-2yr           Automobile   \n",
       "1                Employee         Above 10yr  Public (> 45 seats)   \n",
       "2                Employee              1-2yr      Lorry (41?100Q)   \n",
       "3                Employee             5-10yr  Public (> 45 seats)   \n",
       "4                Employee              2-5yr                  NaN   \n",
       "\n",
       "  Owner_of_vehicle Service_year_of_vehicle  ... Vehicle_movement  \\\n",
       "0            Owner              Above 10yr  ...   Going straight   \n",
       "1            Owner                 5-10yrs  ...   Going straight   \n",
       "2            Owner                     NaN  ...   Going straight   \n",
       "3     Governmental                     NaN  ...   Going straight   \n",
       "4            Owner                 5-10yrs  ...   Going straight   \n",
       "\n",
       "    Casualty_class Sex_of_casualty Age_band_of_casualty Casualty_severity  \\\n",
       "0               na              na                   na                na   \n",
       "1               na              na                   na                na   \n",
       "2  Driver or rider            Male                31-50                 3   \n",
       "3       Pedestrian          Female                18-30                 3   \n",
       "4               na              na                   na                na   \n",
       "\n",
       "  Work_of_casuality Fitness_of_casuality Pedestrian_movement  \\\n",
       "0               NaN                  NaN    Not a Pedestrian   \n",
       "1               NaN                  NaN    Not a Pedestrian   \n",
       "2            Driver                  NaN    Not a Pedestrian   \n",
       "3            Driver               Normal    Not a Pedestrian   \n",
       "4               NaN                  NaN    Not a Pedestrian   \n",
       "\n",
       "            Cause_of_accident Accident_severity  \n",
       "0             Moving Backward     Slight Injury  \n",
       "1                  Overtaking     Slight Injury  \n",
       "2   Changing lane to the left    Serious Injury  \n",
       "3  Changing lane to the right     Slight Injury  \n",
       "4                  Overtaking     Slight Injury  \n",
       "\n",
       "[5 rows x 32 columns]"
      ]
     },
     "execution_count": 8,
     "metadata": {},
     "output_type": "execute_result"
    }
   ],
   "source": [
    "# for dirname, _, filenames in os.walk('/kaggle/input'):\n",
    "#     for filename in filenames:\n",
    "#         print(os.path.join(dirname, filename))\n",
    "\n",
    "rta_data = pd.read_csv(\"/kaggle/input/road-traffic-accidents/RTA Dataset.csv\")\n",
    "rta_data.head()"
   ]
  },
  {
   "cell_type": "markdown",
   "metadata": {
    "papermill": {
     "duration": 0.043812,
     "end_time": "2021-02-13T00:42:21.630835",
     "exception": false,
     "start_time": "2021-02-13T00:42:21.587023",
     "status": "completed"
    },
    "tags": []
   },
   "source": [
    "# Preprocess data: <a class=\"anchor\" id=\"prepare\"></a>"
   ]
  },
  {
   "cell_type": "markdown",
   "metadata": {
    "papermill": {
     "duration": 0.045318,
     "end_time": "2021-02-13T00:42:21.720191",
     "exception": false,
     "start_time": "2021-02-13T00:42:21.674873",
     "status": "completed"
    },
    "tags": []
   },
   "source": [
    "# Drop non relvant columns <a class=\"anchor\" id=\"drop\"></a>"
   ]
  },
  {
   "cell_type": "code",
   "execution_count": 9,
   "metadata": {
    "execution": {
     "iopub.execute_input": "2021-02-13T00:42:21.814688Z",
     "iopub.status.busy": "2021-02-13T00:42:21.813676Z",
     "iopub.status.idle": "2021-02-13T00:42:21.822243Z",
     "shell.execute_reply": "2021-02-13T00:42:21.822759Z"
    },
    "papermill": {
     "duration": 0.057125,
     "end_time": "2021-02-13T00:42:21.822949",
     "exception": false,
     "start_time": "2021-02-13T00:42:21.765824",
     "status": "completed"
    },
    "tags": []
   },
   "outputs": [],
   "source": [
    "bad_cols = ['Casualty_class', 'Sex_of_casualty', 'Age_band_of_casualty', 'Casualty_severity', 'Work_of_casuality', 'Fitness_of_casuality']\n",
    "not_clear_cols = ['Defect_of_vehicle', 'Service_year_of_vehicle', 'Type_of_vehicle']\n",
    "\n",
    "to_remove_cols = bad_cols + not_clear_cols\n",
    "\n",
    "rta_afterDrop = rta_data.drop(columns=to_remove_cols)\n",
    "\n",
    "# rta_afterDrop = rta_afterDrop[rta_afterDrop.Accident_severity != 'Fatal injury']"
   ]
  },
  {
   "cell_type": "code",
   "execution_count": 10,
   "metadata": {
    "execution": {
     "iopub.execute_input": "2021-02-13T00:42:21.917023Z",
     "iopub.status.busy": "2021-02-13T00:42:21.916030Z",
     "iopub.status.idle": "2021-02-13T00:42:21.944007Z",
     "shell.execute_reply": "2021-02-13T00:42:21.943352Z"
    },
    "papermill": {
     "duration": 0.076106,
     "end_time": "2021-02-13T00:42:21.944150",
     "exception": false,
     "start_time": "2021-02-13T00:42:21.868044",
     "status": "completed"
    },
    "tags": []
   },
   "outputs": [
    {
     "data": {
      "text/html": [
       "<div>\n",
       "<style scoped>\n",
       "    .dataframe tbody tr th:only-of-type {\n",
       "        vertical-align: middle;\n",
       "    }\n",
       "\n",
       "    .dataframe tbody tr th {\n",
       "        vertical-align: top;\n",
       "    }\n",
       "\n",
       "    .dataframe thead th {\n",
       "        text-align: right;\n",
       "    }\n",
       "</style>\n",
       "<table border=\"1\" class=\"dataframe\">\n",
       "  <thead>\n",
       "    <tr style=\"text-align: right;\">\n",
       "      <th></th>\n",
       "      <th>Time</th>\n",
       "      <th>Day_of_week</th>\n",
       "      <th>Age_band_of_driver</th>\n",
       "      <th>Sex_of_driver</th>\n",
       "      <th>Educational_level</th>\n",
       "      <th>Vehicle_driver_relation</th>\n",
       "      <th>Driving_experience</th>\n",
       "      <th>Owner_of_vehicle</th>\n",
       "      <th>Area_accident_occured</th>\n",
       "      <th>Lanes_or_Medians</th>\n",
       "      <th>...</th>\n",
       "      <th>Road_surface_conditions</th>\n",
       "      <th>Light_conditions</th>\n",
       "      <th>Weather_conditions</th>\n",
       "      <th>Type_of_collision</th>\n",
       "      <th>Number_of_vehicles_involved</th>\n",
       "      <th>Number_of_casualties</th>\n",
       "      <th>Vehicle_movement</th>\n",
       "      <th>Pedestrian_movement</th>\n",
       "      <th>Cause_of_accident</th>\n",
       "      <th>Accident_severity</th>\n",
       "    </tr>\n",
       "  </thead>\n",
       "  <tbody>\n",
       "    <tr>\n",
       "      <th>0</th>\n",
       "      <td>17:02:00</td>\n",
       "      <td>Monday</td>\n",
       "      <td>18-30</td>\n",
       "      <td>Male</td>\n",
       "      <td>Above high school</td>\n",
       "      <td>Employee</td>\n",
       "      <td>1-2yr</td>\n",
       "      <td>Owner</td>\n",
       "      <td>Residential areas</td>\n",
       "      <td>NaN</td>\n",
       "      <td>...</td>\n",
       "      <td>Dry</td>\n",
       "      <td>Daylight</td>\n",
       "      <td>Normal</td>\n",
       "      <td>Collision with roadside-parked vehicles</td>\n",
       "      <td>2</td>\n",
       "      <td>2</td>\n",
       "      <td>Going straight</td>\n",
       "      <td>Not a Pedestrian</td>\n",
       "      <td>Moving Backward</td>\n",
       "      <td>Slight Injury</td>\n",
       "    </tr>\n",
       "    <tr>\n",
       "      <th>1</th>\n",
       "      <td>17:02:00</td>\n",
       "      <td>Monday</td>\n",
       "      <td>31-50</td>\n",
       "      <td>Male</td>\n",
       "      <td>Junior high school</td>\n",
       "      <td>Employee</td>\n",
       "      <td>Above 10yr</td>\n",
       "      <td>Owner</td>\n",
       "      <td>Office areas</td>\n",
       "      <td>Undivided Two way</td>\n",
       "      <td>...</td>\n",
       "      <td>Dry</td>\n",
       "      <td>Daylight</td>\n",
       "      <td>Normal</td>\n",
       "      <td>Vehicle with vehicle collision</td>\n",
       "      <td>2</td>\n",
       "      <td>2</td>\n",
       "      <td>Going straight</td>\n",
       "      <td>Not a Pedestrian</td>\n",
       "      <td>Overtaking</td>\n",
       "      <td>Slight Injury</td>\n",
       "    </tr>\n",
       "    <tr>\n",
       "      <th>2</th>\n",
       "      <td>17:02:00</td>\n",
       "      <td>Monday</td>\n",
       "      <td>18-30</td>\n",
       "      <td>Male</td>\n",
       "      <td>Junior high school</td>\n",
       "      <td>Employee</td>\n",
       "      <td>1-2yr</td>\n",
       "      <td>Owner</td>\n",
       "      <td>Recreational areas</td>\n",
       "      <td>other</td>\n",
       "      <td>...</td>\n",
       "      <td>Dry</td>\n",
       "      <td>Daylight</td>\n",
       "      <td>Normal</td>\n",
       "      <td>Collision with roadside objects</td>\n",
       "      <td>2</td>\n",
       "      <td>2</td>\n",
       "      <td>Going straight</td>\n",
       "      <td>Not a Pedestrian</td>\n",
       "      <td>Changing lane to the left</td>\n",
       "      <td>Serious Injury</td>\n",
       "    </tr>\n",
       "    <tr>\n",
       "      <th>3</th>\n",
       "      <td>1:06:00</td>\n",
       "      <td>Sunday</td>\n",
       "      <td>18-30</td>\n",
       "      <td>Male</td>\n",
       "      <td>Junior high school</td>\n",
       "      <td>Employee</td>\n",
       "      <td>5-10yr</td>\n",
       "      <td>Governmental</td>\n",
       "      <td>Office areas</td>\n",
       "      <td>other</td>\n",
       "      <td>...</td>\n",
       "      <td>Dry</td>\n",
       "      <td>Darkness - lights lit</td>\n",
       "      <td>Normal</td>\n",
       "      <td>Vehicle with vehicle collision</td>\n",
       "      <td>2</td>\n",
       "      <td>2</td>\n",
       "      <td>Going straight</td>\n",
       "      <td>Not a Pedestrian</td>\n",
       "      <td>Changing lane to the right</td>\n",
       "      <td>Slight Injury</td>\n",
       "    </tr>\n",
       "    <tr>\n",
       "      <th>4</th>\n",
       "      <td>1:06:00</td>\n",
       "      <td>Sunday</td>\n",
       "      <td>18-30</td>\n",
       "      <td>Male</td>\n",
       "      <td>Junior high school</td>\n",
       "      <td>Employee</td>\n",
       "      <td>2-5yr</td>\n",
       "      <td>Owner</td>\n",
       "      <td>Industrial areas</td>\n",
       "      <td>other</td>\n",
       "      <td>...</td>\n",
       "      <td>Dry</td>\n",
       "      <td>Darkness - lights lit</td>\n",
       "      <td>Normal</td>\n",
       "      <td>Vehicle with vehicle collision</td>\n",
       "      <td>2</td>\n",
       "      <td>2</td>\n",
       "      <td>Going straight</td>\n",
       "      <td>Not a Pedestrian</td>\n",
       "      <td>Overtaking</td>\n",
       "      <td>Slight Injury</td>\n",
       "    </tr>\n",
       "  </tbody>\n",
       "</table>\n",
       "<p>5 rows × 23 columns</p>\n",
       "</div>"
      ],
      "text/plain": [
       "       Time Day_of_week Age_band_of_driver Sex_of_driver   Educational_level  \\\n",
       "0  17:02:00      Monday              18-30          Male   Above high school   \n",
       "1  17:02:00      Monday              31-50          Male  Junior high school   \n",
       "2  17:02:00      Monday              18-30          Male  Junior high school   \n",
       "3   1:06:00      Sunday              18-30          Male  Junior high school   \n",
       "4   1:06:00      Sunday              18-30          Male  Junior high school   \n",
       "\n",
       "  Vehicle_driver_relation Driving_experience Owner_of_vehicle  \\\n",
       "0                Employee              1-2yr            Owner   \n",
       "1                Employee         Above 10yr            Owner   \n",
       "2                Employee              1-2yr            Owner   \n",
       "3                Employee             5-10yr     Governmental   \n",
       "4                Employee              2-5yr            Owner   \n",
       "\n",
       "  Area_accident_occured   Lanes_or_Medians  ... Road_surface_conditions  \\\n",
       "0     Residential areas                NaN  ...                     Dry   \n",
       "1          Office areas  Undivided Two way  ...                     Dry   \n",
       "2    Recreational areas              other  ...                     Dry   \n",
       "3          Office areas              other  ...                     Dry   \n",
       "4      Industrial areas              other  ...                     Dry   \n",
       "\n",
       "        Light_conditions Weather_conditions  \\\n",
       "0               Daylight             Normal   \n",
       "1               Daylight             Normal   \n",
       "2               Daylight             Normal   \n",
       "3  Darkness - lights lit             Normal   \n",
       "4  Darkness - lights lit             Normal   \n",
       "\n",
       "                         Type_of_collision Number_of_vehicles_involved  \\\n",
       "0  Collision with roadside-parked vehicles                           2   \n",
       "1           Vehicle with vehicle collision                           2   \n",
       "2          Collision with roadside objects                           2   \n",
       "3           Vehicle with vehicle collision                           2   \n",
       "4           Vehicle with vehicle collision                           2   \n",
       "\n",
       "  Number_of_casualties Vehicle_movement  Pedestrian_movement  \\\n",
       "0                    2   Going straight     Not a Pedestrian   \n",
       "1                    2   Going straight     Not a Pedestrian   \n",
       "2                    2   Going straight     Not a Pedestrian   \n",
       "3                    2   Going straight     Not a Pedestrian   \n",
       "4                    2   Going straight     Not a Pedestrian   \n",
       "\n",
       "            Cause_of_accident Accident_severity  \n",
       "0             Moving Backward     Slight Injury  \n",
       "1                  Overtaking     Slight Injury  \n",
       "2   Changing lane to the left    Serious Injury  \n",
       "3  Changing lane to the right     Slight Injury  \n",
       "4                  Overtaking     Slight Injury  \n",
       "\n",
       "[5 rows x 23 columns]"
      ]
     },
     "execution_count": 10,
     "metadata": {},
     "output_type": "execute_result"
    }
   ],
   "source": [
    "rta_afterDrop.head()"
   ]
  },
  {
   "cell_type": "code",
   "execution_count": 11,
   "metadata": {
    "execution": {
     "iopub.execute_input": "2021-02-13T00:42:22.073955Z",
     "iopub.status.busy": "2021-02-13T00:42:22.072789Z",
     "iopub.status.idle": "2021-02-13T00:42:22.091082Z",
     "shell.execute_reply": "2021-02-13T00:42:22.090521Z"
    },
    "papermill": {
     "duration": 0.100499,
     "end_time": "2021-02-13T00:42:22.091223",
     "exception": false,
     "start_time": "2021-02-13T00:42:21.990724",
     "status": "completed"
    },
    "tags": []
   },
   "outputs": [
    {
     "name": "stdout",
     "output_type": "stream",
     "text": [
      "<class 'pandas.core.frame.DataFrame'>\n",
      "RangeIndex: 12316 entries, 0 to 12315\n",
      "Data columns (total 23 columns):\n",
      " #   Column                       Non-Null Count  Dtype \n",
      "---  ------                       --------------  ----- \n",
      " 0   Time                         12316 non-null  object\n",
      " 1   Day_of_week                  12316 non-null  object\n",
      " 2   Age_band_of_driver           12316 non-null  object\n",
      " 3   Sex_of_driver                12316 non-null  object\n",
      " 4   Educational_level            11575 non-null  object\n",
      " 5   Vehicle_driver_relation      11737 non-null  object\n",
      " 6   Driving_experience           11487 non-null  object\n",
      " 7   Owner_of_vehicle             11834 non-null  object\n",
      " 8   Area_accident_occured        12077 non-null  object\n",
      " 9   Lanes_or_Medians             11931 non-null  object\n",
      " 10  Road_allignment              12174 non-null  object\n",
      " 11  Types_of_Junction            11429 non-null  object\n",
      " 12  Road_surface_type            12144 non-null  object\n",
      " 13  Road_surface_conditions      12316 non-null  object\n",
      " 14  Light_conditions             12316 non-null  object\n",
      " 15  Weather_conditions           12316 non-null  object\n",
      " 16  Type_of_collision            12161 non-null  object\n",
      " 17  Number_of_vehicles_involved  12316 non-null  int64 \n",
      " 18  Number_of_casualties         12316 non-null  int64 \n",
      " 19  Vehicle_movement             12008 non-null  object\n",
      " 20  Pedestrian_movement          12316 non-null  object\n",
      " 21  Cause_of_accident            12316 non-null  object\n",
      " 22  Accident_severity            12316 non-null  object\n",
      "dtypes: int64(2), object(21)\n",
      "memory usage: 2.2+ MB\n"
     ]
    }
   ],
   "source": [
    "rta_afterDrop.info()"
   ]
  },
  {
   "cell_type": "markdown",
   "metadata": {
    "papermill": {
     "duration": 0.046069,
     "end_time": "2021-02-13T00:42:22.183105",
     "exception": false,
     "start_time": "2021-02-13T00:42:22.137036",
     "status": "completed"
    },
    "tags": []
   },
   "source": [
    "# Fill empty values <a class=\"anchor\" id=\"fill\"></a>"
   ]
  },
  {
   "cell_type": "code",
   "execution_count": 12,
   "metadata": {
    "execution": {
     "iopub.execute_input": "2021-02-13T00:42:22.281359Z",
     "iopub.status.busy": "2021-02-13T00:42:22.280328Z",
     "iopub.status.idle": "2021-02-13T00:42:22.322119Z",
     "shell.execute_reply": "2021-02-13T00:42:22.321559Z"
    },
    "papermill": {
     "duration": 0.092393,
     "end_time": "2021-02-13T00:42:22.322263",
     "exception": false,
     "start_time": "2021-02-13T00:42:22.229870",
     "status": "completed"
    },
    "tags": []
   },
   "outputs": [],
   "source": [
    "rta_normlize = rta_afterDrop.replace({'Driving_experience': {\"unknown\": \"Unknown\"}})\n",
    "rta_noNAN = rta_normlize.fillna(\"Unknown\")"
   ]
  },
  {
   "cell_type": "code",
   "execution_count": 13,
   "metadata": {
    "execution": {
     "iopub.execute_input": "2021-02-13T00:42:22.429361Z",
     "iopub.status.busy": "2021-02-13T00:42:22.424637Z",
     "iopub.status.idle": "2021-02-13T00:42:22.529643Z",
     "shell.execute_reply": "2021-02-13T00:42:22.529100Z"
    },
    "papermill": {
     "duration": 0.160317,
     "end_time": "2021-02-13T00:42:22.529792",
     "exception": false,
     "start_time": "2021-02-13T00:42:22.369475",
     "status": "completed"
    },
    "tags": []
   },
   "outputs": [
    {
     "data": {
      "text/html": [
       "<div>\n",
       "<style scoped>\n",
       "    .dataframe tbody tr th:only-of-type {\n",
       "        vertical-align: middle;\n",
       "    }\n",
       "\n",
       "    .dataframe tbody tr th {\n",
       "        vertical-align: top;\n",
       "    }\n",
       "\n",
       "    .dataframe thead th {\n",
       "        text-align: right;\n",
       "    }\n",
       "</style>\n",
       "<table border=\"1\" class=\"dataframe\">\n",
       "  <thead>\n",
       "    <tr style=\"text-align: right;\">\n",
       "      <th></th>\n",
       "      <th>Time</th>\n",
       "      <th>Day_of_week</th>\n",
       "      <th>Age_band_of_driver</th>\n",
       "      <th>Sex_of_driver</th>\n",
       "      <th>Educational_level</th>\n",
       "      <th>Vehicle_driver_relation</th>\n",
       "      <th>Driving_experience</th>\n",
       "      <th>Owner_of_vehicle</th>\n",
       "      <th>Area_accident_occured</th>\n",
       "      <th>Lanes_or_Medians</th>\n",
       "      <th>...</th>\n",
       "      <th>Road_surface_conditions</th>\n",
       "      <th>Light_conditions</th>\n",
       "      <th>Weather_conditions</th>\n",
       "      <th>Type_of_collision</th>\n",
       "      <th>Number_of_vehicles_involved</th>\n",
       "      <th>Number_of_casualties</th>\n",
       "      <th>Vehicle_movement</th>\n",
       "      <th>Pedestrian_movement</th>\n",
       "      <th>Cause_of_accident</th>\n",
       "      <th>Accident_severity</th>\n",
       "    </tr>\n",
       "  </thead>\n",
       "  <tbody>\n",
       "    <tr>\n",
       "      <th>0</th>\n",
       "      <td>17:02:00</td>\n",
       "      <td>Monday</td>\n",
       "      <td>18-30</td>\n",
       "      <td>Male</td>\n",
       "      <td>Above high school</td>\n",
       "      <td>Employee</td>\n",
       "      <td>1-2yr</td>\n",
       "      <td>Owner</td>\n",
       "      <td>Residential areas</td>\n",
       "      <td>Undivided Two way</td>\n",
       "      <td>...</td>\n",
       "      <td>Dry</td>\n",
       "      <td>Daylight</td>\n",
       "      <td>Normal</td>\n",
       "      <td>Collision with roadside-parked vehicles</td>\n",
       "      <td>2</td>\n",
       "      <td>2</td>\n",
       "      <td>Going straight</td>\n",
       "      <td>Not a Pedestrian</td>\n",
       "      <td>Moving Backward</td>\n",
       "      <td>Slight Injury</td>\n",
       "    </tr>\n",
       "    <tr>\n",
       "      <th>1</th>\n",
       "      <td>17:02:00</td>\n",
       "      <td>Monday</td>\n",
       "      <td>31-50</td>\n",
       "      <td>Male</td>\n",
       "      <td>Junior high school</td>\n",
       "      <td>Employee</td>\n",
       "      <td>Above 10yr</td>\n",
       "      <td>Owner</td>\n",
       "      <td>Office areas</td>\n",
       "      <td>Undivided Two way</td>\n",
       "      <td>...</td>\n",
       "      <td>Dry</td>\n",
       "      <td>Daylight</td>\n",
       "      <td>Normal</td>\n",
       "      <td>Vehicle with vehicle collision</td>\n",
       "      <td>2</td>\n",
       "      <td>2</td>\n",
       "      <td>Going straight</td>\n",
       "      <td>Not a Pedestrian</td>\n",
       "      <td>Overtaking</td>\n",
       "      <td>Slight Injury</td>\n",
       "    </tr>\n",
       "    <tr>\n",
       "      <th>2</th>\n",
       "      <td>17:02:00</td>\n",
       "      <td>Monday</td>\n",
       "      <td>18-30</td>\n",
       "      <td>Male</td>\n",
       "      <td>Junior high school</td>\n",
       "      <td>Employee</td>\n",
       "      <td>1-2yr</td>\n",
       "      <td>Owner</td>\n",
       "      <td>Recreational areas</td>\n",
       "      <td>other</td>\n",
       "      <td>...</td>\n",
       "      <td>Dry</td>\n",
       "      <td>Daylight</td>\n",
       "      <td>Normal</td>\n",
       "      <td>Collision with roadside objects</td>\n",
       "      <td>2</td>\n",
       "      <td>2</td>\n",
       "      <td>Going straight</td>\n",
       "      <td>Not a Pedestrian</td>\n",
       "      <td>Changing lane to the left</td>\n",
       "      <td>Serious Injury</td>\n",
       "    </tr>\n",
       "    <tr>\n",
       "      <th>3</th>\n",
       "      <td>1:06:00</td>\n",
       "      <td>Sunday</td>\n",
       "      <td>18-30</td>\n",
       "      <td>Male</td>\n",
       "      <td>Junior high school</td>\n",
       "      <td>Employee</td>\n",
       "      <td>5-10yr</td>\n",
       "      <td>Governmental</td>\n",
       "      <td>Office areas</td>\n",
       "      <td>other</td>\n",
       "      <td>...</td>\n",
       "      <td>Dry</td>\n",
       "      <td>Darkness - lights lit</td>\n",
       "      <td>Normal</td>\n",
       "      <td>Vehicle with vehicle collision</td>\n",
       "      <td>2</td>\n",
       "      <td>2</td>\n",
       "      <td>Going straight</td>\n",
       "      <td>Not a Pedestrian</td>\n",
       "      <td>Changing lane to the right</td>\n",
       "      <td>Slight Injury</td>\n",
       "    </tr>\n",
       "    <tr>\n",
       "      <th>4</th>\n",
       "      <td>1:06:00</td>\n",
       "      <td>Sunday</td>\n",
       "      <td>18-30</td>\n",
       "      <td>Male</td>\n",
       "      <td>Junior high school</td>\n",
       "      <td>Employee</td>\n",
       "      <td>2-5yr</td>\n",
       "      <td>Owner</td>\n",
       "      <td>Industrial areas</td>\n",
       "      <td>other</td>\n",
       "      <td>...</td>\n",
       "      <td>Dry</td>\n",
       "      <td>Darkness - lights lit</td>\n",
       "      <td>Normal</td>\n",
       "      <td>Vehicle with vehicle collision</td>\n",
       "      <td>2</td>\n",
       "      <td>2</td>\n",
       "      <td>Going straight</td>\n",
       "      <td>Not a Pedestrian</td>\n",
       "      <td>Overtaking</td>\n",
       "      <td>Slight Injury</td>\n",
       "    </tr>\n",
       "    <tr>\n",
       "      <th>...</th>\n",
       "      <td>...</td>\n",
       "      <td>...</td>\n",
       "      <td>...</td>\n",
       "      <td>...</td>\n",
       "      <td>...</td>\n",
       "      <td>...</td>\n",
       "      <td>...</td>\n",
       "      <td>...</td>\n",
       "      <td>...</td>\n",
       "      <td>...</td>\n",
       "      <td>...</td>\n",
       "      <td>...</td>\n",
       "      <td>...</td>\n",
       "      <td>...</td>\n",
       "      <td>...</td>\n",
       "      <td>...</td>\n",
       "      <td>...</td>\n",
       "      <td>...</td>\n",
       "      <td>...</td>\n",
       "      <td>...</td>\n",
       "      <td>...</td>\n",
       "    </tr>\n",
       "    <tr>\n",
       "      <th>12311</th>\n",
       "      <td>16:15:00</td>\n",
       "      <td>Wednesday</td>\n",
       "      <td>31-50</td>\n",
       "      <td>Male</td>\n",
       "      <td>Elementary school</td>\n",
       "      <td>Employee</td>\n",
       "      <td>2-5yr</td>\n",
       "      <td>Owner</td>\n",
       "      <td>Outside rural areas</td>\n",
       "      <td>Undivided Two way</td>\n",
       "      <td>...</td>\n",
       "      <td>Dry</td>\n",
       "      <td>Daylight</td>\n",
       "      <td>Normal</td>\n",
       "      <td>Vehicle with vehicle collision</td>\n",
       "      <td>2</td>\n",
       "      <td>1</td>\n",
       "      <td>Going straight</td>\n",
       "      <td>Not a Pedestrian</td>\n",
       "      <td>No distancing</td>\n",
       "      <td>Slight Injury</td>\n",
       "    </tr>\n",
       "    <tr>\n",
       "      <th>12312</th>\n",
       "      <td>18:00:00</td>\n",
       "      <td>Sunday</td>\n",
       "      <td>31-50</td>\n",
       "      <td>Male</td>\n",
       "      <td>Elementary school</td>\n",
       "      <td>Employee</td>\n",
       "      <td>5-10yr</td>\n",
       "      <td>Owner</td>\n",
       "      <td>Outside rural areas</td>\n",
       "      <td>Two-way (divided with broken lines road marking)</td>\n",
       "      <td>...</td>\n",
       "      <td>Dry</td>\n",
       "      <td>Daylight</td>\n",
       "      <td>Normal</td>\n",
       "      <td>Vehicle with vehicle collision</td>\n",
       "      <td>2</td>\n",
       "      <td>1</td>\n",
       "      <td>Other</td>\n",
       "      <td>Not a Pedestrian</td>\n",
       "      <td>No distancing</td>\n",
       "      <td>Slight Injury</td>\n",
       "    </tr>\n",
       "    <tr>\n",
       "      <th>12313</th>\n",
       "      <td>13:55:00</td>\n",
       "      <td>Sunday</td>\n",
       "      <td>Over 51</td>\n",
       "      <td>Male</td>\n",
       "      <td>Junior high school</td>\n",
       "      <td>Employee</td>\n",
       "      <td>5-10yr</td>\n",
       "      <td>Owner</td>\n",
       "      <td>Outside rural areas</td>\n",
       "      <td>Two-way (divided with broken lines road marking)</td>\n",
       "      <td>...</td>\n",
       "      <td>Dry</td>\n",
       "      <td>Daylight</td>\n",
       "      <td>Normal</td>\n",
       "      <td>Vehicle with vehicle collision</td>\n",
       "      <td>1</td>\n",
       "      <td>1</td>\n",
       "      <td>Other</td>\n",
       "      <td>Not a Pedestrian</td>\n",
       "      <td>Changing lane to the right</td>\n",
       "      <td>Serious Injury</td>\n",
       "    </tr>\n",
       "    <tr>\n",
       "      <th>12314</th>\n",
       "      <td>13:55:00</td>\n",
       "      <td>Sunday</td>\n",
       "      <td>18-30</td>\n",
       "      <td>Female</td>\n",
       "      <td>Junior high school</td>\n",
       "      <td>Employee</td>\n",
       "      <td>Above 10yr</td>\n",
       "      <td>Owner</td>\n",
       "      <td>Office areas</td>\n",
       "      <td>Undivided Two way</td>\n",
       "      <td>...</td>\n",
       "      <td>Dry</td>\n",
       "      <td>Darkness - lights lit</td>\n",
       "      <td>Normal</td>\n",
       "      <td>Vehicle with vehicle collision</td>\n",
       "      <td>2</td>\n",
       "      <td>1</td>\n",
       "      <td>Other</td>\n",
       "      <td>Not a Pedestrian</td>\n",
       "      <td>Driving under the influence of drugs</td>\n",
       "      <td>Slight Injury</td>\n",
       "    </tr>\n",
       "    <tr>\n",
       "      <th>12315</th>\n",
       "      <td>13:55:00</td>\n",
       "      <td>Sunday</td>\n",
       "      <td>18-30</td>\n",
       "      <td>Male</td>\n",
       "      <td>Junior high school</td>\n",
       "      <td>Employee</td>\n",
       "      <td>5-10yr</td>\n",
       "      <td>Owner</td>\n",
       "      <td>Outside rural areas</td>\n",
       "      <td>Undivided Two way</td>\n",
       "      <td>...</td>\n",
       "      <td>Dry</td>\n",
       "      <td>Darkness - lights lit</td>\n",
       "      <td>Normal</td>\n",
       "      <td>Vehicle with vehicle collision</td>\n",
       "      <td>2</td>\n",
       "      <td>1</td>\n",
       "      <td>Stopping</td>\n",
       "      <td>Crossing from nearside - masked by parked or s...</td>\n",
       "      <td>Changing lane to the right</td>\n",
       "      <td>Slight Injury</td>\n",
       "    </tr>\n",
       "  </tbody>\n",
       "</table>\n",
       "<p>12316 rows × 23 columns</p>\n",
       "</div>"
      ],
      "text/plain": [
       "           Time Day_of_week Age_band_of_driver Sex_of_driver  \\\n",
       "0      17:02:00      Monday              18-30          Male   \n",
       "1      17:02:00      Monday              31-50          Male   \n",
       "2      17:02:00      Monday              18-30          Male   \n",
       "3       1:06:00      Sunday              18-30          Male   \n",
       "4       1:06:00      Sunday              18-30          Male   \n",
       "...         ...         ...                ...           ...   \n",
       "12311  16:15:00   Wednesday              31-50          Male   \n",
       "12312  18:00:00      Sunday              31-50          Male   \n",
       "12313  13:55:00      Sunday            Over 51          Male   \n",
       "12314  13:55:00      Sunday              18-30        Female   \n",
       "12315  13:55:00      Sunday              18-30          Male   \n",
       "\n",
       "        Educational_level Vehicle_driver_relation Driving_experience  \\\n",
       "0       Above high school                Employee              1-2yr   \n",
       "1      Junior high school                Employee         Above 10yr   \n",
       "2      Junior high school                Employee              1-2yr   \n",
       "3      Junior high school                Employee             5-10yr   \n",
       "4      Junior high school                Employee              2-5yr   \n",
       "...                   ...                     ...                ...   \n",
       "12311   Elementary school                Employee              2-5yr   \n",
       "12312   Elementary school                Employee             5-10yr   \n",
       "12313  Junior high school                Employee             5-10yr   \n",
       "12314  Junior high school                Employee         Above 10yr   \n",
       "12315  Junior high school                Employee             5-10yr   \n",
       "\n",
       "      Owner_of_vehicle Area_accident_occured  \\\n",
       "0                Owner     Residential areas   \n",
       "1                Owner          Office areas   \n",
       "2                Owner    Recreational areas   \n",
       "3         Governmental          Office areas   \n",
       "4                Owner      Industrial areas   \n",
       "...                ...                   ...   \n",
       "12311            Owner   Outside rural areas   \n",
       "12312            Owner   Outside rural areas   \n",
       "12313            Owner   Outside rural areas   \n",
       "12314            Owner          Office areas   \n",
       "12315            Owner   Outside rural areas   \n",
       "\n",
       "                                       Lanes_or_Medians  ...  \\\n",
       "0                                     Undivided Two way  ...   \n",
       "1                                     Undivided Two way  ...   \n",
       "2                                                 other  ...   \n",
       "3                                                 other  ...   \n",
       "4                                                 other  ...   \n",
       "...                                                 ...  ...   \n",
       "12311                                 Undivided Two way  ...   \n",
       "12312  Two-way (divided with broken lines road marking)  ...   \n",
       "12313  Two-way (divided with broken lines road marking)  ...   \n",
       "12314                                 Undivided Two way  ...   \n",
       "12315                                 Undivided Two way  ...   \n",
       "\n",
       "      Road_surface_conditions       Light_conditions Weather_conditions  \\\n",
       "0                         Dry               Daylight             Normal   \n",
       "1                         Dry               Daylight             Normal   \n",
       "2                         Dry               Daylight             Normal   \n",
       "3                         Dry  Darkness - lights lit             Normal   \n",
       "4                         Dry  Darkness - lights lit             Normal   \n",
       "...                       ...                    ...                ...   \n",
       "12311                     Dry               Daylight             Normal   \n",
       "12312                     Dry               Daylight             Normal   \n",
       "12313                     Dry               Daylight             Normal   \n",
       "12314                     Dry  Darkness - lights lit             Normal   \n",
       "12315                     Dry  Darkness - lights lit             Normal   \n",
       "\n",
       "                             Type_of_collision Number_of_vehicles_involved  \\\n",
       "0      Collision with roadside-parked vehicles                           2   \n",
       "1               Vehicle with vehicle collision                           2   \n",
       "2              Collision with roadside objects                           2   \n",
       "3               Vehicle with vehicle collision                           2   \n",
       "4               Vehicle with vehicle collision                           2   \n",
       "...                                        ...                         ...   \n",
       "12311           Vehicle with vehicle collision                           2   \n",
       "12312           Vehicle with vehicle collision                           2   \n",
       "12313           Vehicle with vehicle collision                           1   \n",
       "12314           Vehicle with vehicle collision                           2   \n",
       "12315           Vehicle with vehicle collision                           2   \n",
       "\n",
       "      Number_of_casualties Vehicle_movement  \\\n",
       "0                        2   Going straight   \n",
       "1                        2   Going straight   \n",
       "2                        2   Going straight   \n",
       "3                        2   Going straight   \n",
       "4                        2   Going straight   \n",
       "...                    ...              ...   \n",
       "12311                    1   Going straight   \n",
       "12312                    1            Other   \n",
       "12313                    1            Other   \n",
       "12314                    1            Other   \n",
       "12315                    1         Stopping   \n",
       "\n",
       "                                     Pedestrian_movement  \\\n",
       "0                                       Not a Pedestrian   \n",
       "1                                       Not a Pedestrian   \n",
       "2                                       Not a Pedestrian   \n",
       "3                                       Not a Pedestrian   \n",
       "4                                       Not a Pedestrian   \n",
       "...                                                  ...   \n",
       "12311                                   Not a Pedestrian   \n",
       "12312                                   Not a Pedestrian   \n",
       "12313                                   Not a Pedestrian   \n",
       "12314                                   Not a Pedestrian   \n",
       "12315  Crossing from nearside - masked by parked or s...   \n",
       "\n",
       "                          Cause_of_accident Accident_severity  \n",
       "0                           Moving Backward     Slight Injury  \n",
       "1                                Overtaking     Slight Injury  \n",
       "2                 Changing lane to the left    Serious Injury  \n",
       "3                Changing lane to the right     Slight Injury  \n",
       "4                                Overtaking     Slight Injury  \n",
       "...                                     ...               ...  \n",
       "12311                         No distancing     Slight Injury  \n",
       "12312                         No distancing     Slight Injury  \n",
       "12313            Changing lane to the right    Serious Injury  \n",
       "12314  Driving under the influence of drugs     Slight Injury  \n",
       "12315            Changing lane to the right     Slight Injury  \n",
       "\n",
       "[12316 rows x 23 columns]"
      ]
     },
     "execution_count": 13,
     "metadata": {},
     "output_type": "execute_result"
    }
   ],
   "source": [
    "rta_noNAN = rta_noNAN.replace(\"Unknown\", method='ffill')\n",
    "rta_fullVals = rta_noNAN.replace(\"Unknown\", method='bfill')\n",
    "rta_fullVals"
   ]
  },
  {
   "cell_type": "markdown",
   "metadata": {
    "papermill": {
     "duration": 0.053172,
     "end_time": "2021-02-13T00:42:22.630245",
     "exception": false,
     "start_time": "2021-02-13T00:42:22.577073",
     "status": "completed"
    },
    "tags": []
   },
   "source": [
    "make sure all the data is full, no missing values."
   ]
  },
  {
   "cell_type": "code",
   "execution_count": 14,
   "metadata": {
    "execution": {
     "iopub.execute_input": "2021-02-13T00:42:22.759309Z",
     "iopub.status.busy": "2021-02-13T00:42:22.758480Z",
     "iopub.status.idle": "2021-02-13T00:42:22.766159Z",
     "shell.execute_reply": "2021-02-13T00:42:22.765650Z"
    },
    "papermill": {
     "duration": 0.087507,
     "end_time": "2021-02-13T00:42:22.766305",
     "exception": false,
     "start_time": "2021-02-13T00:42:22.678798",
     "status": "completed"
    },
    "tags": []
   },
   "outputs": [
    {
     "data": {
      "text/plain": [
       "Time                           0\n",
       "Day_of_week                    0\n",
       "Age_band_of_driver             0\n",
       "Sex_of_driver                  0\n",
       "Educational_level              0\n",
       "Vehicle_driver_relation        0\n",
       "Driving_experience             0\n",
       "Owner_of_vehicle               0\n",
       "Area_accident_occured          0\n",
       "Lanes_or_Medians               0\n",
       "Road_allignment                0\n",
       "Types_of_Junction              0\n",
       "Road_surface_type              0\n",
       "Road_surface_conditions        0\n",
       "Light_conditions               0\n",
       "Weather_conditions             0\n",
       "Type_of_collision              0\n",
       "Number_of_vehicles_involved    0\n",
       "Number_of_casualties           0\n",
       "Vehicle_movement               0\n",
       "Pedestrian_movement            0\n",
       "Cause_of_accident              0\n",
       "Accident_severity              0\n",
       "dtype: int64"
      ]
     },
     "execution_count": 14,
     "metadata": {},
     "output_type": "execute_result"
    }
   ],
   "source": [
    "rta_fullVals.isna().sum()"
   ]
  },
  {
   "cell_type": "code",
   "execution_count": 15,
   "metadata": {
    "execution": {
     "iopub.execute_input": "2021-02-13T00:42:22.897000Z",
     "iopub.status.busy": "2021-02-13T00:42:22.896212Z",
     "iopub.status.idle": "2021-02-13T00:42:22.911695Z",
     "shell.execute_reply": "2021-02-13T00:42:22.910701Z"
    },
    "papermill": {
     "duration": 0.096371,
     "end_time": "2021-02-13T00:42:22.911976",
     "exception": false,
     "start_time": "2021-02-13T00:42:22.815605",
     "status": "completed"
    },
    "tags": []
   },
   "outputs": [
    {
     "name": "stdout",
     "output_type": "stream",
     "text": [
      "<class 'pandas.core.frame.DataFrame'>\n",
      "RangeIndex: 12316 entries, 0 to 12315\n",
      "Data columns (total 23 columns):\n",
      " #   Column                       Non-Null Count  Dtype \n",
      "---  ------                       --------------  ----- \n",
      " 0   Time                         12316 non-null  object\n",
      " 1   Day_of_week                  12316 non-null  object\n",
      " 2   Age_band_of_driver           12316 non-null  object\n",
      " 3   Sex_of_driver                12316 non-null  object\n",
      " 4   Educational_level            12316 non-null  object\n",
      " 5   Vehicle_driver_relation      12316 non-null  object\n",
      " 6   Driving_experience           12316 non-null  object\n",
      " 7   Owner_of_vehicle             12316 non-null  object\n",
      " 8   Area_accident_occured        12316 non-null  object\n",
      " 9   Lanes_or_Medians             12316 non-null  object\n",
      " 10  Road_allignment              12316 non-null  object\n",
      " 11  Types_of_Junction            12316 non-null  object\n",
      " 12  Road_surface_type            12316 non-null  object\n",
      " 13  Road_surface_conditions      12316 non-null  object\n",
      " 14  Light_conditions             12316 non-null  object\n",
      " 15  Weather_conditions           12316 non-null  object\n",
      " 16  Type_of_collision            12316 non-null  object\n",
      " 17  Number_of_vehicles_involved  12316 non-null  int64 \n",
      " 18  Number_of_casualties         12316 non-null  int64 \n",
      " 19  Vehicle_movement             12316 non-null  object\n",
      " 20  Pedestrian_movement          12316 non-null  object\n",
      " 21  Cause_of_accident            12316 non-null  object\n",
      " 22  Accident_severity            12316 non-null  object\n",
      "dtypes: int64(2), object(21)\n",
      "memory usage: 2.2+ MB\n"
     ]
    }
   ],
   "source": [
    "rta_fullVals.info()"
   ]
  },
  {
   "cell_type": "markdown",
   "metadata": {
    "papermill": {
     "duration": 0.049611,
     "end_time": "2021-02-13T00:42:23.011903",
     "exception": false,
     "start_time": "2021-02-13T00:42:22.962292",
     "status": "completed"
    },
    "tags": []
   },
   "source": [
    "# Convert types of columns to int <a class=\"anchor\" id=\"map\"></a>"
   ]
  },
  {
   "cell_type": "markdown",
   "metadata": {
    "papermill": {
     "duration": 0.058586,
     "end_time": "2021-02-13T00:42:23.125769",
     "exception": false,
     "start_time": "2021-02-13T00:42:23.067183",
     "status": "completed"
    },
    "tags": []
   },
   "source": [
    "start with 'Time' column: \n",
    "convert it from string <HH:MM:SS> to \"Day\"/\"Night\""
   ]
  },
  {
   "cell_type": "code",
   "execution_count": 16,
   "metadata": {
    "execution": {
     "iopub.execute_input": "2021-02-13T00:42:23.241990Z",
     "iopub.status.busy": "2021-02-13T00:42:23.241168Z",
     "iopub.status.idle": "2021-02-13T00:42:23.273650Z",
     "shell.execute_reply": "2021-02-13T00:42:23.273089Z"
    },
    "papermill": {
     "duration": 0.091661,
     "end_time": "2021-02-13T00:42:23.273827",
     "exception": false,
     "start_time": "2021-02-13T00:42:23.182166",
     "status": "completed"
    },
    "tags": []
   },
   "outputs": [
    {
     "data": {
      "text/plain": [
       "Day      8361\n",
       "Night    3955\n",
       "Name: Time, dtype: int64"
      ]
     },
     "execution_count": 16,
     "metadata": {},
     "output_type": "execute_result"
    }
   ],
   "source": [
    "def formatTimeCol(t):\n",
    "    t = t[:2]\n",
    "    if \":\" in t:\n",
    "        t = t[:1]\n",
    "        \n",
    "    return int(t)\n",
    "\n",
    "def categorizeTimeCol(t):\n",
    "    if t >= 6 and t< 18:\n",
    "        return \"Day\"\n",
    "    else:\n",
    "        return \"Night\"\n",
    "\n",
    "\n",
    "rta_fullVals['Time'] = rta_fullVals['Time'].apply(lambda x: formatTimeCol(x))\n",
    "rta_fullVals['Time'] = rta_fullVals['Time'].apply(lambda x: categorizeTimeCol(x))\n",
    "\n",
    "rta_fullVals['Time'].value_counts(dropna=False)\n"
   ]
  },
  {
   "cell_type": "markdown",
   "metadata": {
    "papermill": {
     "duration": 0.049823,
     "end_time": "2021-02-13T00:42:23.373718",
     "exception": false,
     "start_time": "2021-02-13T00:42:23.323895",
     "status": "completed"
    },
    "tags": []
   },
   "source": [
    "Map logical categorical columns using dictionary"
   ]
  },
  {
   "cell_type": "code",
   "execution_count": 17,
   "metadata": {
    "execution": {
     "iopub.execute_input": "2021-02-13T00:42:23.486397Z",
     "iopub.status.busy": "2021-02-13T00:42:23.485714Z",
     "iopub.status.idle": "2021-02-13T00:42:23.509214Z",
     "shell.execute_reply": "2021-02-13T00:42:23.508424Z"
    },
    "papermill": {
     "duration": 0.085287,
     "end_time": "2021-02-13T00:42:23.509379",
     "exception": false,
     "start_time": "2021-02-13T00:42:23.424092",
     "status": "completed"
    },
    "tags": []
   },
   "outputs": [],
   "source": [
    "rta_mapProcess = rta_fullVals\n",
    "\n",
    "rta_mapProcess['Sex_of_driver'] = rta_mapProcess['Sex_of_driver'].map({'Female': 0, 'Male': 1})\n",
    "rta_mapProcess['Time'] = rta_mapProcess['Time'].map({'Day': 0, 'Night': 1})\n",
    "\n",
    "rta_mapProcess['Age_band_of_driver'] = rta_mapProcess['Age_band_of_driver'].map({'Under 18': 0, '18-30': 1, '31-50': 2, 'Over 51': 3})\n",
    "rta_mapProcess['Driving_experience'] = rta_mapProcess['Driving_experience'].map({'No Licence': 0, 'Below 1yr': 1, '1-2yr': 2, '2-5yr': 3, '5-10yr': 4, 'Above 10yr': 5})\n",
    "rta_mapProcess['Educational_level'] = rta_mapProcess['Educational_level'].map({'Illiterate': 0, 'Writing & reading': 1, 'Elementary school': 2, 'Junior high school': 3, 'High school': 4, 'Above high school': 5})\n",
    "\n",
    "rta_mapProcess['Accident_severity'] = rta_mapProcess['Accident_severity'].map({'Slight Injury': 0, 'Serious Injury': 1, 'Fatal injury': 2})\n",
    "\n",
    "mapped_cols = ['Driving_experience', 'Sex_of_driver', 'Age_band_of_driver', 'Educational_level', 'Time', 'Accident_severity']\n",
    "rta_afterMap = rta_mapProcess"
   ]
  },
  {
   "cell_type": "code",
   "execution_count": 18,
   "metadata": {
    "execution": {
     "iopub.execute_input": "2021-02-13T00:42:23.638992Z",
     "iopub.status.busy": "2021-02-13T00:42:23.637968Z",
     "iopub.status.idle": "2021-02-13T00:42:23.653186Z",
     "shell.execute_reply": "2021-02-13T00:42:23.652497Z"
    },
    "papermill": {
     "duration": 0.093091,
     "end_time": "2021-02-13T00:42:23.653330",
     "exception": false,
     "start_time": "2021-02-13T00:42:23.560239",
     "status": "completed"
    },
    "tags": []
   },
   "outputs": [
    {
     "name": "stdout",
     "output_type": "stream",
     "text": [
      "<class 'pandas.core.frame.DataFrame'>\n",
      "RangeIndex: 12316 entries, 0 to 12315\n",
      "Data columns (total 23 columns):\n",
      " #   Column                       Non-Null Count  Dtype \n",
      "---  ------                       --------------  ----- \n",
      " 0   Time                         12316 non-null  int64 \n",
      " 1   Day_of_week                  12316 non-null  object\n",
      " 2   Age_band_of_driver           12316 non-null  int64 \n",
      " 3   Sex_of_driver                12316 non-null  int64 \n",
      " 4   Educational_level            12316 non-null  int64 \n",
      " 5   Vehicle_driver_relation      12316 non-null  object\n",
      " 6   Driving_experience           12316 non-null  int64 \n",
      " 7   Owner_of_vehicle             12316 non-null  object\n",
      " 8   Area_accident_occured        12316 non-null  object\n",
      " 9   Lanes_or_Medians             12316 non-null  object\n",
      " 10  Road_allignment              12316 non-null  object\n",
      " 11  Types_of_Junction            12316 non-null  object\n",
      " 12  Road_surface_type            12316 non-null  object\n",
      " 13  Road_surface_conditions      12316 non-null  object\n",
      " 14  Light_conditions             12316 non-null  object\n",
      " 15  Weather_conditions           12316 non-null  object\n",
      " 16  Type_of_collision            12316 non-null  object\n",
      " 17  Number_of_vehicles_involved  12316 non-null  int64 \n",
      " 18  Number_of_casualties         12316 non-null  int64 \n",
      " 19  Vehicle_movement             12316 non-null  object\n",
      " 20  Pedestrian_movement          12316 non-null  object\n",
      " 21  Cause_of_accident            12316 non-null  object\n",
      " 22  Accident_severity            12316 non-null  int64 \n",
      "dtypes: int64(8), object(15)\n",
      "memory usage: 2.2+ MB\n"
     ]
    }
   ],
   "source": [
    "rta_afterMap.info()"
   ]
  },
  {
   "cell_type": "markdown",
   "metadata": {
    "papermill": {
     "duration": 0.053905,
     "end_time": "2021-02-13T00:42:23.759582",
     "exception": false,
     "start_time": "2021-02-13T00:42:23.705677",
     "status": "completed"
    },
    "tags": []
   },
   "source": [
    "Map all the rest columns by using 'get_dummies' func"
   ]
  },
  {
   "cell_type": "code",
   "execution_count": 19,
   "metadata": {
    "execution": {
     "iopub.execute_input": "2021-02-13T00:42:23.871413Z",
     "iopub.status.busy": "2021-02-13T00:42:23.870114Z",
     "iopub.status.idle": "2021-02-13T00:42:23.938318Z",
     "shell.execute_reply": "2021-02-13T00:42:23.937697Z"
    },
    "papermill": {
     "duration": 0.126999,
     "end_time": "2021-02-13T00:42:23.938458",
     "exception": false,
     "start_time": "2021-02-13T00:42:23.811459",
     "status": "completed"
    },
    "tags": []
   },
   "outputs": [
    {
     "name": "stdout",
     "output_type": "stream",
     "text": [
      "Cols: ['Vehicle_driver_relation', 'Types_of_Junction', 'Weather_conditions', 'Area_accident_occured', 'Owner_of_vehicle', 'Vehicle_movement', 'Light_conditions', 'Cause_of_accident', 'Day_of_week', 'Pedestrian_movement', 'Road_surface_type', 'Road_allignment', 'Road_surface_conditions', 'Lanes_or_Medians', 'Type_of_collision']\n"
     ]
    },
    {
     "data": {
      "text/html": [
       "<div>\n",
       "<style scoped>\n",
       "    .dataframe tbody tr th:only-of-type {\n",
       "        vertical-align: middle;\n",
       "    }\n",
       "\n",
       "    .dataframe tbody tr th {\n",
       "        vertical-align: top;\n",
       "    }\n",
       "\n",
       "    .dataframe thead th {\n",
       "        text-align: right;\n",
       "    }\n",
       "</style>\n",
       "<table border=\"1\" class=\"dataframe\">\n",
       "  <thead>\n",
       "    <tr style=\"text-align: right;\">\n",
       "      <th></th>\n",
       "      <th>Time</th>\n",
       "      <th>Age_band_of_driver</th>\n",
       "      <th>Sex_of_driver</th>\n",
       "      <th>Educational_level</th>\n",
       "      <th>Driving_experience</th>\n",
       "      <th>Number_of_vehicles_involved</th>\n",
       "      <th>Number_of_casualties</th>\n",
       "      <th>Accident_severity</th>\n",
       "      <th>Vehicle_driver_relation_Employee</th>\n",
       "      <th>Vehicle_driver_relation_Other</th>\n",
       "      <th>...</th>\n",
       "      <th>Lanes_or_Medians_other</th>\n",
       "      <th>Type_of_collision_Collision with animals</th>\n",
       "      <th>Type_of_collision_Collision with pedestrians</th>\n",
       "      <th>Type_of_collision_Collision with roadside objects</th>\n",
       "      <th>Type_of_collision_Collision with roadside-parked vehicles</th>\n",
       "      <th>Type_of_collision_Fall from vehicles</th>\n",
       "      <th>Type_of_collision_Other</th>\n",
       "      <th>Type_of_collision_Rollover</th>\n",
       "      <th>Type_of_collision_Vehicle with vehicle collision</th>\n",
       "      <th>Type_of_collision_With Train</th>\n",
       "    </tr>\n",
       "  </thead>\n",
       "  <tbody>\n",
       "    <tr>\n",
       "      <th>0</th>\n",
       "      <td>0</td>\n",
       "      <td>1</td>\n",
       "      <td>1</td>\n",
       "      <td>5</td>\n",
       "      <td>2</td>\n",
       "      <td>2</td>\n",
       "      <td>2</td>\n",
       "      <td>0</td>\n",
       "      <td>1</td>\n",
       "      <td>0</td>\n",
       "      <td>...</td>\n",
       "      <td>0</td>\n",
       "      <td>0</td>\n",
       "      <td>0</td>\n",
       "      <td>0</td>\n",
       "      <td>1</td>\n",
       "      <td>0</td>\n",
       "      <td>0</td>\n",
       "      <td>0</td>\n",
       "      <td>0</td>\n",
       "      <td>0</td>\n",
       "    </tr>\n",
       "    <tr>\n",
       "      <th>1</th>\n",
       "      <td>0</td>\n",
       "      <td>2</td>\n",
       "      <td>1</td>\n",
       "      <td>3</td>\n",
       "      <td>5</td>\n",
       "      <td>2</td>\n",
       "      <td>2</td>\n",
       "      <td>0</td>\n",
       "      <td>1</td>\n",
       "      <td>0</td>\n",
       "      <td>...</td>\n",
       "      <td>0</td>\n",
       "      <td>0</td>\n",
       "      <td>0</td>\n",
       "      <td>0</td>\n",
       "      <td>0</td>\n",
       "      <td>0</td>\n",
       "      <td>0</td>\n",
       "      <td>0</td>\n",
       "      <td>1</td>\n",
       "      <td>0</td>\n",
       "    </tr>\n",
       "    <tr>\n",
       "      <th>2</th>\n",
       "      <td>0</td>\n",
       "      <td>1</td>\n",
       "      <td>1</td>\n",
       "      <td>3</td>\n",
       "      <td>2</td>\n",
       "      <td>2</td>\n",
       "      <td>2</td>\n",
       "      <td>1</td>\n",
       "      <td>1</td>\n",
       "      <td>0</td>\n",
       "      <td>...</td>\n",
       "      <td>1</td>\n",
       "      <td>0</td>\n",
       "      <td>0</td>\n",
       "      <td>1</td>\n",
       "      <td>0</td>\n",
       "      <td>0</td>\n",
       "      <td>0</td>\n",
       "      <td>0</td>\n",
       "      <td>0</td>\n",
       "      <td>0</td>\n",
       "    </tr>\n",
       "    <tr>\n",
       "      <th>3</th>\n",
       "      <td>1</td>\n",
       "      <td>1</td>\n",
       "      <td>1</td>\n",
       "      <td>3</td>\n",
       "      <td>4</td>\n",
       "      <td>2</td>\n",
       "      <td>2</td>\n",
       "      <td>0</td>\n",
       "      <td>1</td>\n",
       "      <td>0</td>\n",
       "      <td>...</td>\n",
       "      <td>1</td>\n",
       "      <td>0</td>\n",
       "      <td>0</td>\n",
       "      <td>0</td>\n",
       "      <td>0</td>\n",
       "      <td>0</td>\n",
       "      <td>0</td>\n",
       "      <td>0</td>\n",
       "      <td>1</td>\n",
       "      <td>0</td>\n",
       "    </tr>\n",
       "    <tr>\n",
       "      <th>4</th>\n",
       "      <td>1</td>\n",
       "      <td>1</td>\n",
       "      <td>1</td>\n",
       "      <td>3</td>\n",
       "      <td>3</td>\n",
       "      <td>2</td>\n",
       "      <td>2</td>\n",
       "      <td>0</td>\n",
       "      <td>1</td>\n",
       "      <td>0</td>\n",
       "      <td>...</td>\n",
       "      <td>1</td>\n",
       "      <td>0</td>\n",
       "      <td>0</td>\n",
       "      <td>0</td>\n",
       "      <td>0</td>\n",
       "      <td>0</td>\n",
       "      <td>0</td>\n",
       "      <td>0</td>\n",
       "      <td>1</td>\n",
       "      <td>0</td>\n",
       "    </tr>\n",
       "    <tr>\n",
       "      <th>...</th>\n",
       "      <td>...</td>\n",
       "      <td>...</td>\n",
       "      <td>...</td>\n",
       "      <td>...</td>\n",
       "      <td>...</td>\n",
       "      <td>...</td>\n",
       "      <td>...</td>\n",
       "      <td>...</td>\n",
       "      <td>...</td>\n",
       "      <td>...</td>\n",
       "      <td>...</td>\n",
       "      <td>...</td>\n",
       "      <td>...</td>\n",
       "      <td>...</td>\n",
       "      <td>...</td>\n",
       "      <td>...</td>\n",
       "      <td>...</td>\n",
       "      <td>...</td>\n",
       "      <td>...</td>\n",
       "      <td>...</td>\n",
       "      <td>...</td>\n",
       "    </tr>\n",
       "    <tr>\n",
       "      <th>12311</th>\n",
       "      <td>0</td>\n",
       "      <td>2</td>\n",
       "      <td>1</td>\n",
       "      <td>2</td>\n",
       "      <td>3</td>\n",
       "      <td>2</td>\n",
       "      <td>1</td>\n",
       "      <td>0</td>\n",
       "      <td>1</td>\n",
       "      <td>0</td>\n",
       "      <td>...</td>\n",
       "      <td>0</td>\n",
       "      <td>0</td>\n",
       "      <td>0</td>\n",
       "      <td>0</td>\n",
       "      <td>0</td>\n",
       "      <td>0</td>\n",
       "      <td>0</td>\n",
       "      <td>0</td>\n",
       "      <td>1</td>\n",
       "      <td>0</td>\n",
       "    </tr>\n",
       "    <tr>\n",
       "      <th>12312</th>\n",
       "      <td>1</td>\n",
       "      <td>2</td>\n",
       "      <td>1</td>\n",
       "      <td>2</td>\n",
       "      <td>4</td>\n",
       "      <td>2</td>\n",
       "      <td>1</td>\n",
       "      <td>0</td>\n",
       "      <td>1</td>\n",
       "      <td>0</td>\n",
       "      <td>...</td>\n",
       "      <td>0</td>\n",
       "      <td>0</td>\n",
       "      <td>0</td>\n",
       "      <td>0</td>\n",
       "      <td>0</td>\n",
       "      <td>0</td>\n",
       "      <td>0</td>\n",
       "      <td>0</td>\n",
       "      <td>1</td>\n",
       "      <td>0</td>\n",
       "    </tr>\n",
       "    <tr>\n",
       "      <th>12313</th>\n",
       "      <td>0</td>\n",
       "      <td>3</td>\n",
       "      <td>1</td>\n",
       "      <td>3</td>\n",
       "      <td>4</td>\n",
       "      <td>1</td>\n",
       "      <td>1</td>\n",
       "      <td>1</td>\n",
       "      <td>1</td>\n",
       "      <td>0</td>\n",
       "      <td>...</td>\n",
       "      <td>0</td>\n",
       "      <td>0</td>\n",
       "      <td>0</td>\n",
       "      <td>0</td>\n",
       "      <td>0</td>\n",
       "      <td>0</td>\n",
       "      <td>0</td>\n",
       "      <td>0</td>\n",
       "      <td>1</td>\n",
       "      <td>0</td>\n",
       "    </tr>\n",
       "    <tr>\n",
       "      <th>12314</th>\n",
       "      <td>0</td>\n",
       "      <td>1</td>\n",
       "      <td>0</td>\n",
       "      <td>3</td>\n",
       "      <td>5</td>\n",
       "      <td>2</td>\n",
       "      <td>1</td>\n",
       "      <td>0</td>\n",
       "      <td>1</td>\n",
       "      <td>0</td>\n",
       "      <td>...</td>\n",
       "      <td>0</td>\n",
       "      <td>0</td>\n",
       "      <td>0</td>\n",
       "      <td>0</td>\n",
       "      <td>0</td>\n",
       "      <td>0</td>\n",
       "      <td>0</td>\n",
       "      <td>0</td>\n",
       "      <td>1</td>\n",
       "      <td>0</td>\n",
       "    </tr>\n",
       "    <tr>\n",
       "      <th>12315</th>\n",
       "      <td>0</td>\n",
       "      <td>1</td>\n",
       "      <td>1</td>\n",
       "      <td>3</td>\n",
       "      <td>4</td>\n",
       "      <td>2</td>\n",
       "      <td>1</td>\n",
       "      <td>0</td>\n",
       "      <td>1</td>\n",
       "      <td>0</td>\n",
       "      <td>...</td>\n",
       "      <td>0</td>\n",
       "      <td>0</td>\n",
       "      <td>0</td>\n",
       "      <td>0</td>\n",
       "      <td>0</td>\n",
       "      <td>0</td>\n",
       "      <td>0</td>\n",
       "      <td>0</td>\n",
       "      <td>1</td>\n",
       "      <td>0</td>\n",
       "    </tr>\n",
       "  </tbody>\n",
       "</table>\n",
       "<p>12316 rows × 127 columns</p>\n",
       "</div>"
      ],
      "text/plain": [
       "       Time  Age_band_of_driver  Sex_of_driver  Educational_level  \\\n",
       "0         0                   1              1                  5   \n",
       "1         0                   2              1                  3   \n",
       "2         0                   1              1                  3   \n",
       "3         1                   1              1                  3   \n",
       "4         1                   1              1                  3   \n",
       "...     ...                 ...            ...                ...   \n",
       "12311     0                   2              1                  2   \n",
       "12312     1                   2              1                  2   \n",
       "12313     0                   3              1                  3   \n",
       "12314     0                   1              0                  3   \n",
       "12315     0                   1              1                  3   \n",
       "\n",
       "       Driving_experience  Number_of_vehicles_involved  Number_of_casualties  \\\n",
       "0                       2                            2                     2   \n",
       "1                       5                            2                     2   \n",
       "2                       2                            2                     2   \n",
       "3                       4                            2                     2   \n",
       "4                       3                            2                     2   \n",
       "...                   ...                          ...                   ...   \n",
       "12311                   3                            2                     1   \n",
       "12312                   4                            2                     1   \n",
       "12313                   4                            1                     1   \n",
       "12314                   5                            2                     1   \n",
       "12315                   4                            2                     1   \n",
       "\n",
       "       Accident_severity  Vehicle_driver_relation_Employee  \\\n",
       "0                      0                                 1   \n",
       "1                      0                                 1   \n",
       "2                      1                                 1   \n",
       "3                      0                                 1   \n",
       "4                      0                                 1   \n",
       "...                  ...                               ...   \n",
       "12311                  0                                 1   \n",
       "12312                  0                                 1   \n",
       "12313                  1                                 1   \n",
       "12314                  0                                 1   \n",
       "12315                  0                                 1   \n",
       "\n",
       "       Vehicle_driver_relation_Other  ...  Lanes_or_Medians_other  \\\n",
       "0                                  0  ...                       0   \n",
       "1                                  0  ...                       0   \n",
       "2                                  0  ...                       1   \n",
       "3                                  0  ...                       1   \n",
       "4                                  0  ...                       1   \n",
       "...                              ...  ...                     ...   \n",
       "12311                              0  ...                       0   \n",
       "12312                              0  ...                       0   \n",
       "12313                              0  ...                       0   \n",
       "12314                              0  ...                       0   \n",
       "12315                              0  ...                       0   \n",
       "\n",
       "       Type_of_collision_Collision with animals  \\\n",
       "0                                             0   \n",
       "1                                             0   \n",
       "2                                             0   \n",
       "3                                             0   \n",
       "4                                             0   \n",
       "...                                         ...   \n",
       "12311                                         0   \n",
       "12312                                         0   \n",
       "12313                                         0   \n",
       "12314                                         0   \n",
       "12315                                         0   \n",
       "\n",
       "       Type_of_collision_Collision with pedestrians  \\\n",
       "0                                                 0   \n",
       "1                                                 0   \n",
       "2                                                 0   \n",
       "3                                                 0   \n",
       "4                                                 0   \n",
       "...                                             ...   \n",
       "12311                                             0   \n",
       "12312                                             0   \n",
       "12313                                             0   \n",
       "12314                                             0   \n",
       "12315                                             0   \n",
       "\n",
       "       Type_of_collision_Collision with roadside objects  \\\n",
       "0                                                      0   \n",
       "1                                                      0   \n",
       "2                                                      1   \n",
       "3                                                      0   \n",
       "4                                                      0   \n",
       "...                                                  ...   \n",
       "12311                                                  0   \n",
       "12312                                                  0   \n",
       "12313                                                  0   \n",
       "12314                                                  0   \n",
       "12315                                                  0   \n",
       "\n",
       "       Type_of_collision_Collision with roadside-parked vehicles  \\\n",
       "0                                                      1           \n",
       "1                                                      0           \n",
       "2                                                      0           \n",
       "3                                                      0           \n",
       "4                                                      0           \n",
       "...                                                  ...           \n",
       "12311                                                  0           \n",
       "12312                                                  0           \n",
       "12313                                                  0           \n",
       "12314                                                  0           \n",
       "12315                                                  0           \n",
       "\n",
       "       Type_of_collision_Fall from vehicles  Type_of_collision_Other  \\\n",
       "0                                         0                        0   \n",
       "1                                         0                        0   \n",
       "2                                         0                        0   \n",
       "3                                         0                        0   \n",
       "4                                         0                        0   \n",
       "...                                     ...                      ...   \n",
       "12311                                     0                        0   \n",
       "12312                                     0                        0   \n",
       "12313                                     0                        0   \n",
       "12314                                     0                        0   \n",
       "12315                                     0                        0   \n",
       "\n",
       "       Type_of_collision_Rollover  \\\n",
       "0                               0   \n",
       "1                               0   \n",
       "2                               0   \n",
       "3                               0   \n",
       "4                               0   \n",
       "...                           ...   \n",
       "12311                           0   \n",
       "12312                           0   \n",
       "12313                           0   \n",
       "12314                           0   \n",
       "12315                           0   \n",
       "\n",
       "       Type_of_collision_Vehicle with vehicle collision  \\\n",
       "0                                                     0   \n",
       "1                                                     1   \n",
       "2                                                     0   \n",
       "3                                                     1   \n",
       "4                                                     1   \n",
       "...                                                 ...   \n",
       "12311                                                 1   \n",
       "12312                                                 1   \n",
       "12313                                                 1   \n",
       "12314                                                 1   \n",
       "12315                                                 1   \n",
       "\n",
       "       Type_of_collision_With Train  \n",
       "0                                 0  \n",
       "1                                 0  \n",
       "2                                 0  \n",
       "3                                 0  \n",
       "4                                 0  \n",
       "...                             ...  \n",
       "12311                             0  \n",
       "12312                             0  \n",
       "12313                             0  \n",
       "12314                             0  \n",
       "12315                             0  \n",
       "\n",
       "[12316 rows x 127 columns]"
      ]
     },
     "execution_count": 19,
     "metadata": {},
     "output_type": "execute_result"
    }
   ],
   "source": [
    "columns = list(rta_afterMap.columns)\n",
    "int_cols = ['Number_of_vehicles_involved', 'Number_of_casualties']\n",
    "no_need_convert = int_cols + mapped_cols\n",
    "\n",
    "columns_needed = list(set(columns) - set(no_need_convert))\n",
    "print(\"Cols:\", columns_needed)\n",
    "\n",
    "rta_cleanWdummies = pd.get_dummies(rta_afterMap, columns=columns_needed)\n",
    "rta_cleanWdummies"
   ]
  },
  {
   "cell_type": "code",
   "execution_count": 20,
   "metadata": {
    "execution": {
     "iopub.execute_input": "2021-02-13T00:42:24.063484Z",
     "iopub.status.busy": "2021-02-13T00:42:24.062801Z",
     "iopub.status.idle": "2021-02-13T00:42:24.067969Z",
     "shell.execute_reply": "2021-02-13T00:42:24.067433Z"
    },
    "papermill": {
     "duration": 0.075789,
     "end_time": "2021-02-13T00:42:24.068120",
     "exception": false,
     "start_time": "2021-02-13T00:42:23.992331",
     "status": "completed"
    },
    "tags": []
   },
   "outputs": [
    {
     "name": "stdout",
     "output_type": "stream",
     "text": [
      "<class 'pandas.core.frame.DataFrame'>\n",
      "RangeIndex: 12316 entries, 0 to 12315\n",
      "Columns: 127 entries, Time to Type_of_collision_With Train\n",
      "dtypes: int64(8), uint8(119)\n",
      "memory usage: 2.1 MB\n"
     ]
    }
   ],
   "source": [
    "rta_cleanWdummies.info()"
   ]
  },
  {
   "cell_type": "code",
   "execution_count": 21,
   "metadata": {
    "execution": {
     "iopub.execute_input": "2021-02-13T00:42:24.193762Z",
     "iopub.status.busy": "2021-02-13T00:42:24.178608Z",
     "iopub.status.idle": "2021-02-13T00:42:24.199277Z",
     "shell.execute_reply": "2021-02-13T00:42:24.198738Z"
    },
    "papermill": {
     "duration": 0.078658,
     "end_time": "2021-02-13T00:42:24.199437",
     "exception": false,
     "start_time": "2021-02-13T00:42:24.120779",
     "status": "completed"
    },
    "tags": []
   },
   "outputs": [
    {
     "data": {
      "text/html": [
       "<div>\n",
       "<style scoped>\n",
       "    .dataframe tbody tr th:only-of-type {\n",
       "        vertical-align: middle;\n",
       "    }\n",
       "\n",
       "    .dataframe tbody tr th {\n",
       "        vertical-align: top;\n",
       "    }\n",
       "\n",
       "    .dataframe thead th {\n",
       "        text-align: right;\n",
       "    }\n",
       "</style>\n",
       "<table border=\"1\" class=\"dataframe\">\n",
       "  <thead>\n",
       "    <tr style=\"text-align: right;\">\n",
       "      <th></th>\n",
       "      <th>Time</th>\n",
       "      <th>Age_band_of_driver</th>\n",
       "      <th>Sex_of_driver</th>\n",
       "      <th>Educational_level</th>\n",
       "      <th>Driving_experience</th>\n",
       "      <th>Number_of_vehicles_involved</th>\n",
       "      <th>Number_of_casualties</th>\n",
       "      <th>Accident_severity</th>\n",
       "      <th>Vehicle_driver_relation_Employee</th>\n",
       "      <th>Vehicle_driver_relation_Other</th>\n",
       "      <th>...</th>\n",
       "      <th>Lanes_or_Medians_other</th>\n",
       "      <th>Type_of_collision_Collision with animals</th>\n",
       "      <th>Type_of_collision_Collision with pedestrians</th>\n",
       "      <th>Type_of_collision_Collision with roadside objects</th>\n",
       "      <th>Type_of_collision_Collision with roadside-parked vehicles</th>\n",
       "      <th>Type_of_collision_Fall from vehicles</th>\n",
       "      <th>Type_of_collision_Other</th>\n",
       "      <th>Type_of_collision_Rollover</th>\n",
       "      <th>Type_of_collision_Vehicle with vehicle collision</th>\n",
       "      <th>Type_of_collision_With Train</th>\n",
       "    </tr>\n",
       "  </thead>\n",
       "  <tbody>\n",
       "    <tr>\n",
       "      <th>0</th>\n",
       "      <td>0</td>\n",
       "      <td>1</td>\n",
       "      <td>1</td>\n",
       "      <td>5</td>\n",
       "      <td>2</td>\n",
       "      <td>2</td>\n",
       "      <td>2</td>\n",
       "      <td>0</td>\n",
       "      <td>1</td>\n",
       "      <td>0</td>\n",
       "      <td>...</td>\n",
       "      <td>0</td>\n",
       "      <td>0</td>\n",
       "      <td>0</td>\n",
       "      <td>0</td>\n",
       "      <td>1</td>\n",
       "      <td>0</td>\n",
       "      <td>0</td>\n",
       "      <td>0</td>\n",
       "      <td>0</td>\n",
       "      <td>0</td>\n",
       "    </tr>\n",
       "    <tr>\n",
       "      <th>1</th>\n",
       "      <td>0</td>\n",
       "      <td>2</td>\n",
       "      <td>1</td>\n",
       "      <td>3</td>\n",
       "      <td>5</td>\n",
       "      <td>2</td>\n",
       "      <td>2</td>\n",
       "      <td>0</td>\n",
       "      <td>1</td>\n",
       "      <td>0</td>\n",
       "      <td>...</td>\n",
       "      <td>0</td>\n",
       "      <td>0</td>\n",
       "      <td>0</td>\n",
       "      <td>0</td>\n",
       "      <td>0</td>\n",
       "      <td>0</td>\n",
       "      <td>0</td>\n",
       "      <td>0</td>\n",
       "      <td>1</td>\n",
       "      <td>0</td>\n",
       "    </tr>\n",
       "    <tr>\n",
       "      <th>2</th>\n",
       "      <td>0</td>\n",
       "      <td>1</td>\n",
       "      <td>1</td>\n",
       "      <td>3</td>\n",
       "      <td>2</td>\n",
       "      <td>2</td>\n",
       "      <td>2</td>\n",
       "      <td>1</td>\n",
       "      <td>1</td>\n",
       "      <td>0</td>\n",
       "      <td>...</td>\n",
       "      <td>1</td>\n",
       "      <td>0</td>\n",
       "      <td>0</td>\n",
       "      <td>1</td>\n",
       "      <td>0</td>\n",
       "      <td>0</td>\n",
       "      <td>0</td>\n",
       "      <td>0</td>\n",
       "      <td>0</td>\n",
       "      <td>0</td>\n",
       "    </tr>\n",
       "    <tr>\n",
       "      <th>3</th>\n",
       "      <td>1</td>\n",
       "      <td>1</td>\n",
       "      <td>1</td>\n",
       "      <td>3</td>\n",
       "      <td>4</td>\n",
       "      <td>2</td>\n",
       "      <td>2</td>\n",
       "      <td>0</td>\n",
       "      <td>1</td>\n",
       "      <td>0</td>\n",
       "      <td>...</td>\n",
       "      <td>1</td>\n",
       "      <td>0</td>\n",
       "      <td>0</td>\n",
       "      <td>0</td>\n",
       "      <td>0</td>\n",
       "      <td>0</td>\n",
       "      <td>0</td>\n",
       "      <td>0</td>\n",
       "      <td>1</td>\n",
       "      <td>0</td>\n",
       "    </tr>\n",
       "    <tr>\n",
       "      <th>4</th>\n",
       "      <td>1</td>\n",
       "      <td>1</td>\n",
       "      <td>1</td>\n",
       "      <td>3</td>\n",
       "      <td>3</td>\n",
       "      <td>2</td>\n",
       "      <td>2</td>\n",
       "      <td>0</td>\n",
       "      <td>1</td>\n",
       "      <td>0</td>\n",
       "      <td>...</td>\n",
       "      <td>1</td>\n",
       "      <td>0</td>\n",
       "      <td>0</td>\n",
       "      <td>0</td>\n",
       "      <td>0</td>\n",
       "      <td>0</td>\n",
       "      <td>0</td>\n",
       "      <td>0</td>\n",
       "      <td>1</td>\n",
       "      <td>0</td>\n",
       "    </tr>\n",
       "  </tbody>\n",
       "</table>\n",
       "<p>5 rows × 127 columns</p>\n",
       "</div>"
      ],
      "text/plain": [
       "   Time  Age_band_of_driver  Sex_of_driver  Educational_level  \\\n",
       "0     0                   1              1                  5   \n",
       "1     0                   2              1                  3   \n",
       "2     0                   1              1                  3   \n",
       "3     1                   1              1                  3   \n",
       "4     1                   1              1                  3   \n",
       "\n",
       "   Driving_experience  Number_of_vehicles_involved  Number_of_casualties  \\\n",
       "0                   2                            2                     2   \n",
       "1                   5                            2                     2   \n",
       "2                   2                            2                     2   \n",
       "3                   4                            2                     2   \n",
       "4                   3                            2                     2   \n",
       "\n",
       "   Accident_severity  Vehicle_driver_relation_Employee  \\\n",
       "0                  0                                 1   \n",
       "1                  0                                 1   \n",
       "2                  1                                 1   \n",
       "3                  0                                 1   \n",
       "4                  0                                 1   \n",
       "\n",
       "   Vehicle_driver_relation_Other  ...  Lanes_or_Medians_other  \\\n",
       "0                              0  ...                       0   \n",
       "1                              0  ...                       0   \n",
       "2                              0  ...                       1   \n",
       "3                              0  ...                       1   \n",
       "4                              0  ...                       1   \n",
       "\n",
       "   Type_of_collision_Collision with animals  \\\n",
       "0                                         0   \n",
       "1                                         0   \n",
       "2                                         0   \n",
       "3                                         0   \n",
       "4                                         0   \n",
       "\n",
       "   Type_of_collision_Collision with pedestrians  \\\n",
       "0                                             0   \n",
       "1                                             0   \n",
       "2                                             0   \n",
       "3                                             0   \n",
       "4                                             0   \n",
       "\n",
       "   Type_of_collision_Collision with roadside objects  \\\n",
       "0                                                  0   \n",
       "1                                                  0   \n",
       "2                                                  1   \n",
       "3                                                  0   \n",
       "4                                                  0   \n",
       "\n",
       "   Type_of_collision_Collision with roadside-parked vehicles  \\\n",
       "0                                                  1           \n",
       "1                                                  0           \n",
       "2                                                  0           \n",
       "3                                                  0           \n",
       "4                                                  0           \n",
       "\n",
       "   Type_of_collision_Fall from vehicles  Type_of_collision_Other  \\\n",
       "0                                     0                        0   \n",
       "1                                     0                        0   \n",
       "2                                     0                        0   \n",
       "3                                     0                        0   \n",
       "4                                     0                        0   \n",
       "\n",
       "   Type_of_collision_Rollover  \\\n",
       "0                           0   \n",
       "1                           0   \n",
       "2                           0   \n",
       "3                           0   \n",
       "4                           0   \n",
       "\n",
       "   Type_of_collision_Vehicle with vehicle collision  \\\n",
       "0                                                 0   \n",
       "1                                                 1   \n",
       "2                                                 0   \n",
       "3                                                 1   \n",
       "4                                                 1   \n",
       "\n",
       "   Type_of_collision_With Train  \n",
       "0                             0  \n",
       "1                             0  \n",
       "2                             0  \n",
       "3                             0  \n",
       "4                             0  \n",
       "\n",
       "[5 rows x 127 columns]"
      ]
     },
     "execution_count": 21,
     "metadata": {},
     "output_type": "execute_result"
    }
   ],
   "source": [
    "rta_cleanWdummies.head()"
   ]
  },
  {
   "cell_type": "markdown",
   "metadata": {
    "papermill": {
     "duration": 0.053382,
     "end_time": "2021-02-13T00:42:24.307246",
     "exception": false,
     "start_time": "2021-02-13T00:42:24.253864",
     "status": "completed"
    },
    "tags": []
   },
   "source": [
    " Data is clean, full and ready for process  :)"
   ]
  },
  {
   "cell_type": "markdown",
   "metadata": {
    "papermill": {
     "duration": 0.055029,
     "end_time": "2021-02-13T00:42:24.415998",
     "exception": false,
     "start_time": "2021-02-13T00:42:24.360969",
     "status": "completed"
    },
    "tags": []
   },
   "source": [
    "# Split data to train and test <a class=\"anchor\" id=\"split\"></a>"
   ]
  },
  {
   "cell_type": "code",
   "execution_count": 22,
   "metadata": {
    "execution": {
     "iopub.execute_input": "2021-02-13T00:42:24.530356Z",
     "iopub.status.busy": "2021-02-13T00:42:24.529371Z",
     "iopub.status.idle": "2021-02-13T00:42:24.543856Z",
     "shell.execute_reply": "2021-02-13T00:42:24.543312Z"
    },
    "papermill": {
     "duration": 0.074357,
     "end_time": "2021-02-13T00:42:24.543997",
     "exception": false,
     "start_time": "2021-02-13T00:42:24.469640",
     "status": "completed"
    },
    "tags": []
   },
   "outputs": [
    {
     "name": "stdout",
     "output_type": "stream",
     "text": [
      "(8005, 126)\n",
      "(4311, 126)\n"
     ]
    }
   ],
   "source": [
    "X_rta = rta_cleanWdummies.drop(columns=['Accident_severity'])\n",
    "y_rta = rta_cleanWdummies['Accident_severity']\n",
    "\n",
    "X_train, X_test, y_train, y_test = splitTrainTest(X_rta, y_rta)\n",
    "\n",
    "print(X_train.shape)\n",
    "print(X_test.shape)"
   ]
  },
  {
   "cell_type": "markdown",
   "metadata": {
    "papermill": {
     "duration": 0.052171,
     "end_time": "2021-02-13T00:42:24.649019",
     "exception": false,
     "start_time": "2021-02-13T00:42:24.596848",
     "status": "completed"
    },
    "tags": []
   },
   "source": [
    "# Start to fit and predict with ML models: <a class=\"anchor\" id=\"models\"></a>"
   ]
  },
  {
   "cell_type": "markdown",
   "metadata": {
    "papermill": {
     "duration": 0.054528,
     "end_time": "2021-02-13T00:42:24.759194",
     "exception": false,
     "start_time": "2021-02-13T00:42:24.704666",
     "status": "completed"
    },
    "tags": []
   },
   "source": [
    "Train & fit with DT <a class=\"anchor\" id=\"DT\"></a>"
   ]
  },
  {
   "cell_type": "code",
   "execution_count": 23,
   "metadata": {
    "execution": {
     "iopub.execute_input": "2021-02-13T00:42:24.875963Z",
     "iopub.status.busy": "2021-02-13T00:42:24.874944Z",
     "iopub.status.idle": "2021-02-13T00:42:25.281066Z",
     "shell.execute_reply": "2021-02-13T00:42:25.280511Z"
    },
    "papermill": {
     "duration": 0.467106,
     "end_time": "2021-02-13T00:42:25.281228",
     "exception": false,
     "start_time": "2021-02-13T00:42:24.814122",
     "status": "completed"
    },
    "tags": []
   },
   "outputs": [
    {
     "name": "stdout",
     "output_type": "stream",
     "text": [
      "Accuracy accuracy_score: 76.83 %.\n",
      "\n",
      "( weighted avg):\n",
      "Accuracy f1_score: 77.36 %.\n"
     ]
    },
    {
     "data": {
      "image/png": "[encoded data removed]",
      "text/plain": [
       "<Figure size 360x360 with 2 Axes>"
      ]
     },
     "metadata": {
      "needs_background": "light"
     },
     "output_type": "display_data"
    }
   ],
   "source": [
    "DT_scores[\"Original fit\"] = DT_fitPredict(X_train, y_train)"
   ]
  },
  {
   "cell_type": "markdown",
   "metadata": {
    "papermill": {
     "duration": 0.054731,
     "end_time": "2021-02-13T00:42:25.390355",
     "exception": false,
     "start_time": "2021-02-13T00:42:25.335624",
     "status": "completed"
    },
    "tags": []
   },
   "source": [
    "Train & fit with RF <a class=\"anchor\" id=\"RF\"></a>"
   ]
  },
  {
   "cell_type": "code",
   "execution_count": 24,
   "metadata": {
    "execution": {
     "iopub.execute_input": "2021-02-13T00:42:25.509600Z",
     "iopub.status.busy": "2021-02-13T00:42:25.508339Z",
     "iopub.status.idle": "2021-02-13T00:42:27.324593Z",
     "shell.execute_reply": "2021-02-13T00:42:27.323950Z"
    },
    "papermill": {
     "duration": 1.87894,
     "end_time": "2021-02-13T00:42:27.324756",
     "exception": false,
     "start_time": "2021-02-13T00:42:25.445816",
     "status": "completed"
    },
    "tags": []
   },
   "outputs": [
    {
     "name": "stdout",
     "output_type": "stream",
     "text": [
      "Accuracy accuracy_score: 85.25 %.\n",
      "\n",
      "( weighted avg):\n",
      "Accuracy f1_score: 78.85 %.\n"
     ]
    },
    {
     "data": {
      "image/png": "[encoded data removed]",
      "text/plain": [
       "<Figure size 360x360 with 2 Axes>"
      ]
     },
     "metadata": {
      "needs_background": "light"
     },
     "output_type": "display_data"
    }
   ],
   "source": [
    "RF_scores[\"Original fit\"] = RF_fitPredict(X_train, y_train)"
   ]
  },
  {
   "cell_type": "markdown",
   "metadata": {
    "papermill": {
     "duration": 0.055656,
     "end_time": "2021-02-13T00:42:27.435984",
     "exception": false,
     "start_time": "2021-02-13T00:42:27.380328",
     "status": "completed"
    },
    "tags": []
   },
   "source": [
    "It can be seen by the Matrix that there is very big mistake in prediction the sever accidents."
   ]
  },
  {
   "cell_type": "markdown",
   "metadata": {
    "papermill": {
     "duration": 0.054554,
     "end_time": "2021-02-13T00:42:27.547592",
     "exception": false,
     "start_time": "2021-02-13T00:42:27.493038",
     "status": "completed"
    },
    "tags": []
   },
   "source": [
    "The accuracy_score isn't fit here since the target isn't balancd.\n",
    "I'll use f1_score with weighted avg."
   ]
  },
  {
   "cell_type": "markdown",
   "metadata": {
    "papermill": {
     "duration": 0.057651,
     "end_time": "2021-02-13T00:42:27.659820",
     "exception": false,
     "start_time": "2021-02-13T00:42:27.602169",
     "status": "completed"
    },
    "tags": []
   },
   "source": [
    "# Handle imbalanced data <a class=\"anchor\" id=\"handle\"></a>"
   ]
  },
  {
   "cell_type": "code",
   "execution_count": 25,
   "metadata": {
    "execution": {
     "iopub.execute_input": "2021-02-13T00:42:27.774855Z",
     "iopub.status.busy": "2021-02-13T00:42:27.774106Z",
     "iopub.status.idle": "2021-02-13T00:42:27.921835Z",
     "shell.execute_reply": "2021-02-13T00:42:27.921245Z"
    },
    "papermill": {
     "duration": 0.207669,
     "end_time": "2021-02-13T00:42:27.921987",
     "exception": false,
     "start_time": "2021-02-13T00:42:27.714318",
     "status": "completed"
    },
    "tags": []
   },
   "outputs": [
    {
     "data": {
      "image/png": "[encoded data removed]",
      "text/plain": [
       "<Figure size 288x288 with 1 Axes>"
      ]
     },
     "metadata": {
      "needs_background": "light"
     },
     "output_type": "display_data"
    }
   ],
   "source": [
    "showValueCount(rta_cleanWdummies['Accident_severity'])"
   ]
  },
  {
   "cell_type": "markdown",
   "metadata": {
    "papermill": {
     "duration": 0.056762,
     "end_time": "2021-02-13T00:42:28.034971",
     "exception": false,
     "start_time": "2021-02-13T00:42:27.978209",
     "status": "completed"
    },
    "tags": []
   },
   "source": [
    "I tried using Balanced DT and Balanced RF, which weren't very successful. <a class=\"anchor\" id=\"modelsBalanced\"></a>"
   ]
  },
  {
   "cell_type": "code",
   "execution_count": 26,
   "metadata": {
    "execution": {
     "iopub.execute_input": "2021-02-13T00:42:28.154649Z",
     "iopub.status.busy": "2021-02-13T00:42:28.153480Z",
     "iopub.status.idle": "2021-02-13T00:42:28.496877Z",
     "shell.execute_reply": "2021-02-13T00:42:28.496180Z"
    },
    "papermill": {
     "duration": 0.406303,
     "end_time": "2021-02-13T00:42:28.497029",
     "exception": false,
     "start_time": "2021-02-13T00:42:28.090726",
     "status": "completed"
    },
    "tags": []
   },
   "outputs": [
    {
     "name": "stdout",
     "output_type": "stream",
     "text": [
      "Accuracy accuracy_score: 75.57 %.\n",
      "\n",
      "( weighted avg):\n",
      "Accuracy f1_score: 76.29 %.\n"
     ]
    },
    {
     "data": {
      "image/png": "[encoded data removed]",
      "text/plain": [
       "<Figure size 360x360 with 2 Axes>"
      ]
     },
     "metadata": {
      "needs_background": "light"
     },
     "output_type": "display_data"
    }
   ],
   "source": [
    "DT_scores[\"BalancedDT fit\"] = BalancedDT_fitPredict(X_train, y_train)"
   ]
  },
  {
   "cell_type": "code",
   "execution_count": 27,
   "metadata": {
    "execution": {
     "iopub.execute_input": "2021-02-13T00:42:28.619747Z",
     "iopub.status.busy": "2021-02-13T00:42:28.619083Z",
     "iopub.status.idle": "2021-02-13T00:42:29.952608Z",
     "shell.execute_reply": "2021-02-13T00:42:29.952069Z"
    },
    "papermill": {
     "duration": 1.399326,
     "end_time": "2021-02-13T00:42:29.952760",
     "exception": false,
     "start_time": "2021-02-13T00:42:28.553434",
     "status": "completed"
    },
    "tags": []
   },
   "outputs": [
    {
     "name": "stdout",
     "output_type": "stream",
     "text": [
      "Accuracy accuracy_score: 42.12 %.\n",
      "\n",
      "( weighted avg):\n",
      "Accuracy f1_score: 51.78 %.\n"
     ]
    },
    {
     "data": {
      "image/png": "[encoded data removed]",
      "text/plain": [
       "<Figure size 360x360 with 2 Axes>"
      ]
     },
     "metadata": {
      "needs_background": "light"
     },
     "output_type": "display_data"
    }
   ],
   "source": [
    "RF_scores[\"BalancedRF fit\"] = BalancedRF_fitPredict(X_train, y_train)"
   ]
  },
  {
   "cell_type": "markdown",
   "metadata": {
    "papermill": {
     "duration": 0.057757,
     "end_time": "2021-02-13T00:42:30.070355",
     "exception": false,
     "start_time": "2021-02-13T00:42:30.012598",
     "status": "completed"
    },
    "tags": []
   },
   "source": [
    "So I tried using UnderSample and OverSample.\n",
    "The US wasn't successful due to very shrinked data volume. <a class=\"anchor\" id=\"US\"></a>"
   ]
  },
  {
   "cell_type": "code",
   "execution_count": 28,
   "metadata": {
    "execution": {
     "iopub.execute_input": "2021-02-13T00:42:30.191366Z",
     "iopub.status.busy": "2021-02-13T00:42:30.190314Z",
     "iopub.status.idle": "2021-02-13T00:42:30.558980Z",
     "shell.execute_reply": "2021-02-13T00:42:30.558303Z"
    },
    "papermill": {
     "duration": 0.430216,
     "end_time": "2021-02-13T00:42:30.559122",
     "exception": false,
     "start_time": "2021-02-13T00:42:30.128906",
     "status": "completed"
    },
    "tags": []
   },
   "outputs": [
    {
     "data": {
      "image/png": "[encoded data removed]",
      "text/plain": [
       "<Figure size 288x288 with 1 Axes>"
      ]
     },
     "metadata": {
      "needs_background": "light"
     },
     "output_type": "display_data"
    }
   ],
   "source": [
    "# transform the dataset\n",
    "undersample = NearMiss()\n",
    "X_train_US, y_train_US = undersample.fit_resample(X_train, y_train)\n",
    "showValueCount(y_train_US)"
   ]
  },
  {
   "cell_type": "code",
   "execution_count": 29,
   "metadata": {
    "execution": {
     "iopub.execute_input": "2021-02-13T00:42:30.685781Z",
     "iopub.status.busy": "2021-02-13T00:42:30.685015Z",
     "iopub.status.idle": "2021-02-13T00:42:30.903229Z",
     "shell.execute_reply": "2021-02-13T00:42:30.903694Z"
    },
    "papermill": {
     "duration": 0.286005,
     "end_time": "2021-02-13T00:42:30.903869",
     "exception": false,
     "start_time": "2021-02-13T00:42:30.617864",
     "status": "completed"
    },
    "tags": []
   },
   "outputs": [
    {
     "name": "stdout",
     "output_type": "stream",
     "text": [
      "Accuracy accuracy_score: 20.34 %.\n",
      "\n",
      "( weighted avg):\n",
      "Accuracy f1_score: 26.11 %.\n"
     ]
    },
    {
     "data": {
      "image/png": "[encoded data removed]",
      "text/plain": [
       "<Figure size 360x360 with 2 Axes>"
      ]
     },
     "metadata": {
      "needs_background": "light"
     },
     "output_type": "display_data"
    }
   ],
   "source": [
    "DT_scores[\"US DT fit\"] = DT_fitPredict(X_train_US, y_train_US)"
   ]
  },
  {
   "cell_type": "code",
   "execution_count": 30,
   "metadata": {
    "execution": {
     "iopub.execute_input": "2021-02-13T00:42:31.034817Z",
     "iopub.status.busy": "2021-02-13T00:42:31.034132Z",
     "iopub.status.idle": "2021-02-13T00:42:31.595567Z",
     "shell.execute_reply": "2021-02-13T00:42:31.596038Z"
    },
    "papermill": {
     "duration": 0.632756,
     "end_time": "2021-02-13T00:42:31.596215",
     "exception": false,
     "start_time": "2021-02-13T00:42:30.963459",
     "status": "completed"
    },
    "tags": []
   },
   "outputs": [
    {
     "name": "stdout",
     "output_type": "stream",
     "text": [
      "Accuracy accuracy_score: 20.32 %.\n",
      "\n",
      "( weighted avg):\n",
      "Accuracy f1_score: 27.35 %.\n"
     ]
    },
    {
     "data": {
      "image/png": "[encoded data removed]",
      "text/plain": [
       "<Figure size 360x360 with 2 Axes>"
      ]
     },
     "metadata": {
      "needs_background": "light"
     },
     "output_type": "display_data"
    }
   ],
   "source": [
    "RF_scores[\"US RF fit\"] = RF_fitPredict(X_train_US, y_train_US)"
   ]
  },
  {
   "cell_type": "markdown",
   "metadata": {
    "papermill": {
     "duration": 0.060603,
     "end_time": "2021-02-13T00:42:31.718340",
     "exception": false,
     "start_time": "2021-02-13T00:42:31.657737",
     "status": "completed"
    },
    "tags": []
   },
   "source": [
    "The OS improved a bit the accuracy. <a class=\"anchor\" id=\"OS\"></a>"
   ]
  },
  {
   "cell_type": "code",
   "execution_count": 31,
   "metadata": {
    "execution": {
     "iopub.execute_input": "2021-02-13T00:42:31.847383Z",
     "iopub.status.busy": "2021-02-13T00:42:31.846371Z",
     "iopub.status.idle": "2021-02-13T00:42:32.518391Z",
     "shell.execute_reply": "2021-02-13T00:42:32.517861Z"
    },
    "papermill": {
     "duration": 0.738645,
     "end_time": "2021-02-13T00:42:32.518562",
     "exception": false,
     "start_time": "2021-02-13T00:42:31.779917",
     "status": "completed"
    },
    "tags": []
   },
   "outputs": [
    {
     "data": {
      "image/png": "[encoded data removed]",
      "text/plain": [
       "<Figure size 288x288 with 1 Axes>"
      ]
     },
     "metadata": {
      "needs_background": "light"
     },
     "output_type": "display_data"
    }
   ],
   "source": [
    "# transform the dataset\n",
    "oversample = SMOTE()\n",
    "X_train_OS, y_train_OS = oversample.fit_resample(X_train, y_train)\n",
    "showValueCount(y_train_OS)"
   ]
  },
  {
   "cell_type": "code",
   "execution_count": 32,
   "metadata": {
    "execution": {
     "iopub.execute_input": "2021-02-13T00:42:32.652752Z",
     "iopub.status.busy": "2021-02-13T00:42:32.651933Z",
     "iopub.status.idle": "2021-02-13T00:42:33.140223Z",
     "shell.execute_reply": "2021-02-13T00:42:33.139711Z"
    },
    "papermill": {
     "duration": 0.558875,
     "end_time": "2021-02-13T00:42:33.140368",
     "exception": false,
     "start_time": "2021-02-13T00:42:32.581493",
     "status": "completed"
    },
    "tags": []
   },
   "outputs": [
    {
     "name": "stdout",
     "output_type": "stream",
     "text": [
      "Accuracy accuracy_score: 71.77 %.\n",
      "\n",
      "( weighted avg):\n",
      "Accuracy f1_score: 74.03 %.\n"
     ]
    },
    {
     "data": {
      "image/png": "[encoded data removed]",
      "text/plain": [
       "<Figure size 360x360 with 2 Axes>"
      ]
     },
     "metadata": {
      "needs_background": "light"
     },
     "output_type": "display_data"
    }
   ],
   "source": [
    "DT_scores[\"OS DT fit\"] = DT_fitPredict(X_train_OS, y_train_OS)"
   ]
  },
  {
   "cell_type": "code",
   "execution_count": 33,
   "metadata": {
    "execution": {
     "iopub.execute_input": "2021-02-13T00:42:33.271043Z",
     "iopub.status.busy": "2021-02-13T00:42:33.270337Z",
     "iopub.status.idle": "2021-02-13T00:42:36.812633Z",
     "shell.execute_reply": "2021-02-13T00:42:36.812046Z"
    },
    "papermill": {
     "duration": 3.608131,
     "end_time": "2021-02-13T00:42:36.812789",
     "exception": false,
     "start_time": "2021-02-13T00:42:33.204658",
     "status": "completed"
    },
    "tags": []
   },
   "outputs": [
    {
     "name": "stdout",
     "output_type": "stream",
     "text": [
      "Accuracy accuracy_score: 83.21 %.\n",
      "\n",
      "( weighted avg):\n",
      "Accuracy f1_score: 80.0 %.\n"
     ]
    },
    {
     "data": {
      "image/png": "[encoded data removed]",
      "text/plain": [
       "<Figure size 360x360 with 2 Axes>"
      ]
     },
     "metadata": {
      "needs_background": "light"
     },
     "output_type": "display_data"
    }
   ],
   "source": [
    "RF_scores[\"OS RF fit\"] = RF_fitPredict(X_train_OS, y_train_OS)"
   ]
  },
  {
   "cell_type": "markdown",
   "metadata": {
    "papermill": {
     "duration": 0.065595,
     "end_time": "2021-02-13T00:42:36.942696",
     "exception": false,
     "start_time": "2021-02-13T00:42:36.877101",
     "status": "completed"
    },
    "tags": []
   },
   "source": [
    "# Select K best: <a class=\"anchor\" id=\"kBest\"></a>"
   ]
  },
  {
   "cell_type": "markdown",
   "metadata": {
    "papermill": {
     "duration": 0.063917,
     "end_time": "2021-02-13T00:42:37.070831",
     "exception": false,
     "start_time": "2021-02-13T00:42:37.006914",
     "status": "completed"
    },
    "tags": []
   },
   "source": [
    "try to choose the features that most relvant to the target"
   ]
  },
  {
   "cell_type": "code",
   "execution_count": 34,
   "metadata": {
    "execution": {
     "iopub.execute_input": "2021-02-13T00:42:37.210254Z",
     "iopub.status.busy": "2021-02-13T00:42:37.209608Z",
     "iopub.status.idle": "2021-02-13T00:42:37.755782Z",
     "shell.execute_reply": "2021-02-13T00:42:37.755062Z"
    },
    "papermill": {
     "duration": 0.61621,
     "end_time": "2021-02-13T00:42:37.755958",
     "exception": false,
     "start_time": "2021-02-13T00:42:37.139748",
     "status": "completed"
    },
    "tags": []
   },
   "outputs": [
    {
     "data": {
      "text/plain": [
       "Accident_severity                          1.000000\n",
       "Time                                       0.056872\n",
       "Number_of_casualties                       0.045339\n",
       "Light_conditions_Darkness - no lighting    0.043421\n",
       "Types_of_Junction_No junction              0.042238\n",
       "                                             ...   \n",
       "Weather_conditions_Other                  -0.027775\n",
       "Day_of_week_Monday                        -0.030887\n",
       "Light_conditions_Daylight                 -0.033136\n",
       "Types_of_Junction_Crossing                -0.051234\n",
       "Number_of_vehicles_involved               -0.096023\n",
       "Name: Accident_severity, Length: 127, dtype: float64"
      ]
     },
     "execution_count": 34,
     "metadata": {},
     "output_type": "execute_result"
    }
   ],
   "source": [
    "rta_cleanWdummies.corr()['Accident_severity'].sort_values(ascending=False)"
   ]
  },
  {
   "cell_type": "markdown",
   "metadata": {
    "papermill": {
     "duration": 0.064701,
     "end_time": "2021-02-13T00:42:37.886436",
     "exception": false,
     "start_time": "2021-02-13T00:42:37.821735",
     "status": "completed"
    },
    "tags": []
   },
   "source": [
    "In order to do that, examine few kbest option, and check accuracy for each."
   ]
  },
  {
   "cell_type": "code",
   "execution_count": 35,
   "metadata": {
    "execution": {
     "iopub.execute_input": "2021-02-13T00:42:38.027538Z",
     "iopub.status.busy": "2021-02-13T00:42:38.026829Z",
     "iopub.status.idle": "2021-02-13T00:42:51.031468Z",
     "shell.execute_reply": "2021-02-13T00:42:51.032421Z"
    },
    "papermill": {
     "duration": 13.081817,
     "end_time": "2021-02-13T00:42:51.032821",
     "exception": false,
     "start_time": "2021-02-13T00:42:37.951004",
     "status": "completed"
    },
    "tags": []
   },
   "outputs": [],
   "source": [
    "DT_K_best = {}\n",
    "RF_K_best = {}\n",
    "\n",
    "for kNum in range(1, 120, 10):\n",
    "\n",
    "    selector = SelectKBest(chi2, k=kNum)\n",
    "    selector.fit(X_train, y_train)\n",
    "\n",
    "    X_train_k = selector.transform(X_train)\n",
    "    y_train_k = y_train\n",
    "\n",
    "    selected_feature_names = X_train.columns[selector.get_support(indices=True)].tolist()\n",
    "\n",
    "    X_test_k = X_test[selected_feature_names]\n",
    "    y_test_k = y_test\n",
    "\n",
    "    DT_K_best[str(kNum)] = Kbest_DT_fitPredict(X_train_k, y_train_k, X_test_k, y_test_k)\n",
    "    RF_K_best[str(kNum)] = Kbest_RF_fitPredict(X_train_k, y_train_k, X_test_k, y_test_k)\n"
   ]
  },
  {
   "cell_type": "code",
   "execution_count": 36,
   "metadata": {
    "execution": {
     "iopub.execute_input": "2021-02-13T00:42:51.178162Z",
     "iopub.status.busy": "2021-02-13T00:42:51.177457Z",
     "iopub.status.idle": "2021-02-13T00:42:51.181845Z",
     "shell.execute_reply": "2021-02-13T00:42:51.181166Z"
    },
    "papermill": {
     "duration": 0.075515,
     "end_time": "2021-02-13T00:42:51.181989",
     "exception": false,
     "start_time": "2021-02-13T00:42:51.106474",
     "status": "completed"
    },
    "tags": []
   },
   "outputs": [
    {
     "data": {
      "text/plain": [
       "{'1': {'weighted_f1': 78.06},\n",
       " '11': {'weighted_f1': 81.1},\n",
       " '21': {'weighted_f1': 81.67},\n",
       " '31': {'weighted_f1': 81.03},\n",
       " '41': {'weighted_f1': 80.0},\n",
       " '51': {'weighted_f1': 78.33},\n",
       " '61': {'weighted_f1': 77.86},\n",
       " '71': {'weighted_f1': 76.57},\n",
       " '81': {'weighted_f1': 75.72},\n",
       " '91': {'weighted_f1': 76.47},\n",
       " '101': {'weighted_f1': 76.54},\n",
       " '111': {'weighted_f1': 76.55}}"
      ]
     },
     "execution_count": 36,
     "metadata": {},
     "output_type": "execute_result"
    }
   ],
   "source": [
    "DT_K_best"
   ]
  },
  {
   "cell_type": "code",
   "execution_count": 37,
   "metadata": {
    "execution": {
     "iopub.execute_input": "2021-02-13T00:42:51.320095Z",
     "iopub.status.busy": "2021-02-13T00:42:51.319437Z",
     "iopub.status.idle": "2021-02-13T00:42:51.323689Z",
     "shell.execute_reply": "2021-02-13T00:42:51.323057Z"
    },
    "papermill": {
     "duration": 0.075318,
     "end_time": "2021-02-13T00:42:51.323826",
     "exception": false,
     "start_time": "2021-02-13T00:42:51.248508",
     "status": "completed"
    },
    "tags": []
   },
   "outputs": [
    {
     "data": {
      "text/plain": [
       "{'1': {'weighted_f1': 78.06},\n",
       " '11': {'weighted_f1': 81.22},\n",
       " '21': {'weighted_f1': 81.77},\n",
       " '31': {'weighted_f1': 81.34},\n",
       " '41': {'weighted_f1': 81.18},\n",
       " '51': {'weighted_f1': 80.32},\n",
       " '61': {'weighted_f1': 80.38},\n",
       " '71': {'weighted_f1': 80.09},\n",
       " '81': {'weighted_f1': 80.25},\n",
       " '91': {'weighted_f1': 79.11},\n",
       " '101': {'weighted_f1': 79.11},\n",
       " '111': {'weighted_f1': 79.15}}"
      ]
     },
     "execution_count": 37,
     "metadata": {},
     "output_type": "execute_result"
    }
   ],
   "source": [
    "RF_K_best"
   ]
  },
  {
   "cell_type": "markdown",
   "metadata": {
    "papermill": {
     "duration": 0.066122,
     "end_time": "2021-02-13T00:42:51.455809",
     "exception": false,
     "start_time": "2021-02-13T00:42:51.389687",
     "status": "completed"
    },
    "tags": []
   },
   "source": [
    "Kbest is in the range of 21-31.\n",
    "So I chose k=25"
   ]
  },
  {
   "cell_type": "code",
   "execution_count": 38,
   "metadata": {
    "execution": {
     "iopub.execute_input": "2021-02-13T00:42:51.597612Z",
     "iopub.status.busy": "2021-02-13T00:42:51.596451Z",
     "iopub.status.idle": "2021-02-13T00:42:51.615248Z",
     "shell.execute_reply": "2021-02-13T00:42:51.614603Z"
    },
    "papermill": {
     "duration": 0.0933,
     "end_time": "2021-02-13T00:42:51.615391",
     "exception": false,
     "start_time": "2021-02-13T00:42:51.522091",
     "status": "completed"
    },
    "tags": []
   },
   "outputs": [
    {
     "name": "stdout",
     "output_type": "stream",
     "text": [
      "(8005, 25)\n"
     ]
    }
   ],
   "source": [
    "selector = SelectKBest(chi2, k=25)\n",
    "selector.fit(X_train, y_train)\n",
    "\n",
    "X_train_k = selector.transform(X_train)\n",
    "y_train_k = y_train\n",
    "\n",
    "selected_feature_names_k = X_train.columns[selector.get_support(indices=True)].tolist()\n",
    "print(X_train_k.shape)\n",
    "\n",
    "X_test_k = X_test[selected_feature_names_k]\n",
    "y_test_k = y_test"
   ]
  },
  {
   "cell_type": "code",
   "execution_count": 39,
   "metadata": {
    "execution": {
     "iopub.execute_input": "2021-02-13T00:42:51.755666Z",
     "iopub.status.busy": "2021-02-13T00:42:51.755005Z",
     "iopub.status.idle": "2021-02-13T00:42:51.784198Z",
     "shell.execute_reply": "2021-02-13T00:42:51.783633Z"
    },
    "papermill": {
     "duration": 0.100645,
     "end_time": "2021-02-13T00:42:51.784349",
     "exception": false,
     "start_time": "2021-02-13T00:42:51.683704",
     "status": "completed"
    },
    "tags": []
   },
   "outputs": [],
   "source": [
    "DT_scores[\"Kbest DT fit\"] = Kbest_DT_fitPredict(X_train_k, y_train_k, X_test_k, y_test_k)"
   ]
  },
  {
   "cell_type": "code",
   "execution_count": 40,
   "metadata": {
    "execution": {
     "iopub.execute_input": "2021-02-13T00:42:51.928221Z",
     "iopub.status.busy": "2021-02-13T00:42:51.927569Z",
     "iopub.status.idle": "2021-02-13T00:42:52.694975Z",
     "shell.execute_reply": "2021-02-13T00:42:52.694414Z"
    },
    "papermill": {
     "duration": 0.844149,
     "end_time": "2021-02-13T00:42:52.695127",
     "exception": false,
     "start_time": "2021-02-13T00:42:51.850978",
     "status": "completed"
    },
    "tags": []
   },
   "outputs": [],
   "source": [
    "RF_scores[\"Kbest RF fit\"] = Kbest_RF_fitPredict(X_train_k, y_train_k, X_test_k, y_test_k)"
   ]
  },
  {
   "cell_type": "markdown",
   "metadata": {
    "papermill": {
     "duration": 0.066072,
     "end_time": "2021-02-13T00:42:52.827763",
     "exception": false,
     "start_time": "2021-02-13T00:42:52.761691",
     "status": "completed"
    },
    "tags": []
   },
   "source": [
    "preformed Kbest again, combined with OverSample: <a class=\"anchor\" id=\"kBestOS\"></a>"
   ]
  },
  {
   "cell_type": "code",
   "execution_count": 41,
   "metadata": {
    "execution": {
     "iopub.execute_input": "2021-02-13T00:42:52.974114Z",
     "iopub.status.busy": "2021-02-13T00:42:52.973040Z",
     "iopub.status.idle": "2021-02-13T00:43:19.326058Z",
     "shell.execute_reply": "2021-02-13T00:43:19.326591Z"
    },
    "papermill": {
     "duration": 26.431979,
     "end_time": "2021-02-13T00:43:19.326797",
     "exception": false,
     "start_time": "2021-02-13T00:42:52.894818",
     "status": "completed"
    },
    "tags": []
   },
   "outputs": [],
   "source": [
    "DT_K_best = {}\n",
    "RF_K_best = {}\n",
    "\n",
    "for kNum in range(1, 120, 10):\n",
    "\n",
    "    selector = SelectKBest(chi2, k=kNum)\n",
    "    selector.fit(X_train_OS, y_train_OS)\n",
    "\n",
    "    X_train_k_os = selector.transform(X_train_OS)\n",
    "    y_train_k_os = y_train_OS\n",
    "\n",
    "    selected_feature_names = X_train_OS.columns[selector.get_support(indices=True)].tolist()\n",
    "\n",
    "    X_test_k_os = X_test[selected_feature_names]\n",
    "    y_test_k_os = y_test\n",
    "\n",
    "    DT_K_best[str(kNum)] = Kbest_DT_fitPredict(X_train_k_os, y_train_k_os, X_test_k_os, y_test_k_os)\n",
    "    RF_K_best[str(kNum)] = Kbest_RF_fitPredict(X_train_k_os, y_train_k_os, X_test_k_os, y_test_k_os)\n"
   ]
  },
  {
   "cell_type": "code",
   "execution_count": 42,
   "metadata": {
    "execution": {
     "iopub.execute_input": "2021-02-13T00:43:19.469621Z",
     "iopub.status.busy": "2021-02-13T00:43:19.468981Z",
     "iopub.status.idle": "2021-02-13T00:43:19.471642Z",
     "shell.execute_reply": "2021-02-13T00:43:19.472087Z"
    },
    "papermill": {
     "duration": 0.078775,
     "end_time": "2021-02-13T00:43:19.472255",
     "exception": false,
     "start_time": "2021-02-13T00:43:19.393480",
     "status": "completed"
    },
    "tags": []
   },
   "outputs": [
    {
     "data": {
      "text/plain": [
       "{'1': {'weighted_f1': 30.58},\n",
       " '11': {'weighted_f1': 60.65},\n",
       " '21': {'weighted_f1': 65.98},\n",
       " '31': {'weighted_f1': 70.97},\n",
       " '41': {'weighted_f1': 70.86},\n",
       " '51': {'weighted_f1': 72.31},\n",
       " '61': {'weighted_f1': 71.61},\n",
       " '71': {'weighted_f1': 73.21},\n",
       " '81': {'weighted_f1': 74.01},\n",
       " '91': {'weighted_f1': 73.87},\n",
       " '101': {'weighted_f1': 73.6},\n",
       " '111': {'weighted_f1': 73.72}}"
      ]
     },
     "execution_count": 42,
     "metadata": {},
     "output_type": "execute_result"
    }
   ],
   "source": [
    "DT_K_best"
   ]
  },
  {
   "cell_type": "code",
   "execution_count": 43,
   "metadata": {
    "execution": {
     "iopub.execute_input": "2021-02-13T00:43:19.609224Z",
     "iopub.status.busy": "2021-02-13T00:43:19.608586Z",
     "iopub.status.idle": "2021-02-13T00:43:19.613629Z",
     "shell.execute_reply": "2021-02-13T00:43:19.614151Z"
    },
    "papermill": {
     "duration": 0.075157,
     "end_time": "2021-02-13T00:43:19.614323",
     "exception": false,
     "start_time": "2021-02-13T00:43:19.539166",
     "status": "completed"
    },
    "tags": []
   },
   "outputs": [
    {
     "data": {
      "text/plain": [
       "{'1': {'weighted_f1': 30.58},\n",
       " '11': {'weighted_f1': 59.26},\n",
       " '21': {'weighted_f1': 67.56},\n",
       " '31': {'weighted_f1': 74.14},\n",
       " '41': {'weighted_f1': 75.38},\n",
       " '51': {'weighted_f1': 77.79},\n",
       " '61': {'weighted_f1': 77.77},\n",
       " '71': {'weighted_f1': 79.24},\n",
       " '81': {'weighted_f1': 78.6},\n",
       " '91': {'weighted_f1': 79.91},\n",
       " '101': {'weighted_f1': 79.62},\n",
       " '111': {'weighted_f1': 79.53}}"
      ]
     },
     "execution_count": 43,
     "metadata": {},
     "output_type": "execute_result"
    }
   ],
   "source": [
    "RF_K_best"
   ]
  },
  {
   "cell_type": "markdown",
   "metadata": {
    "papermill": {
     "duration": 0.067222,
     "end_time": "2021-02-13T00:43:19.749239",
     "exception": false,
     "start_time": "2021-02-13T00:43:19.682017",
     "status": "completed"
    },
    "tags": []
   },
   "source": [
    "Kbest is in the range of 91-101.\n",
    "So I chose k=90"
   ]
  },
  {
   "cell_type": "code",
   "execution_count": 44,
   "metadata": {
    "execution": {
     "iopub.execute_input": "2021-02-13T00:43:19.889580Z",
     "iopub.status.busy": "2021-02-13T00:43:19.888778Z",
     "iopub.status.idle": "2021-02-13T00:43:19.928578Z",
     "shell.execute_reply": "2021-02-13T00:43:19.929128Z"
    },
    "papermill": {
     "duration": 0.110939,
     "end_time": "2021-02-13T00:43:19.929306",
     "exception": false,
     "start_time": "2021-02-13T00:43:19.818367",
     "status": "completed"
    },
    "tags": []
   },
   "outputs": [
    {
     "name": "stdout",
     "output_type": "stream",
     "text": [
      "(20256, 90)\n"
     ]
    }
   ],
   "source": [
    "selector = SelectKBest(chi2, k=90)\n",
    "selector.fit(X_train_OS, y_train_OS)\n",
    "\n",
    "X_train_k_os = selector.transform(X_train_OS)\n",
    "y_train_k_os = y_train_OS\n",
    "\n",
    "selected_feature_names_os = X_train.columns[selector.get_support(indices=True)].tolist()\n",
    "print(X_train_k_os.shape)\n",
    "\n",
    "X_test_k_os = X_test[selected_feature_names_os]\n",
    "y_test_k_os = y_test"
   ]
  },
  {
   "cell_type": "code",
   "execution_count": 45,
   "metadata": {
    "execution": {
     "iopub.execute_input": "2021-02-13T00:43:20.071603Z",
     "iopub.status.busy": "2021-02-13T00:43:20.070642Z",
     "iopub.status.idle": "2021-02-13T00:43:20.275227Z",
     "shell.execute_reply": "2021-02-13T00:43:20.275741Z"
    },
    "papermill": {
     "duration": 0.276528,
     "end_time": "2021-02-13T00:43:20.275935",
     "exception": false,
     "start_time": "2021-02-13T00:43:19.999407",
     "status": "completed"
    },
    "tags": []
   },
   "outputs": [],
   "source": [
    "DT_scores[\"Kbest+OS DT fit\"] = Kbest_DT_fitPredict(X_train_k_os, y_train_k_os, X_test_k_os, y_test_k_os)"
   ]
  },
  {
   "cell_type": "code",
   "execution_count": 46,
   "metadata": {
    "execution": {
     "iopub.execute_input": "2021-02-13T00:43:20.417133Z",
     "iopub.status.busy": "2021-02-13T00:43:20.416167Z",
     "iopub.status.idle": "2021-02-13T00:43:23.090034Z",
     "shell.execute_reply": "2021-02-13T00:43:23.089437Z"
    },
    "papermill": {
     "duration": 2.745468,
     "end_time": "2021-02-13T00:43:23.090194",
     "exception": false,
     "start_time": "2021-02-13T00:43:20.344726",
     "status": "completed"
    },
    "tags": []
   },
   "outputs": [],
   "source": [
    "RF_scores[\"Kbest+OS RF fit\"] = Kbest_RF_fitPredict(X_train_k_os, y_train_k_os, X_test_k_os, y_test_k_os)"
   ]
  },
  {
   "cell_type": "code",
   "execution_count": 47,
   "metadata": {
    "execution": {
     "iopub.execute_input": "2021-02-13T00:43:23.233054Z",
     "iopub.status.busy": "2021-02-13T00:43:23.232350Z",
     "iopub.status.idle": "2021-02-13T00:43:23.235334Z",
     "shell.execute_reply": "2021-02-13T00:43:23.235787Z"
    },
    "papermill": {
     "duration": 0.077051,
     "end_time": "2021-02-13T00:43:23.235962",
     "exception": false,
     "start_time": "2021-02-13T00:43:23.158911",
     "status": "completed"
    },
    "tags": []
   },
   "outputs": [
    {
     "data": {
      "text/plain": [
       "{'Original fit': {'weighted_f1': 77.36},\n",
       " 'BalancedDT fit': {'weighted_f1': 76.29},\n",
       " 'US DT fit': {'weighted_f1': 26.11},\n",
       " 'OS DT fit': {'weighted_f1': 74.03},\n",
       " 'Kbest DT fit': {'weighted_f1': 81.78},\n",
       " 'Kbest+OS DT fit': {'weighted_f1': 73.78}}"
      ]
     },
     "execution_count": 47,
     "metadata": {},
     "output_type": "execute_result"
    }
   ],
   "source": [
    "DT_scores"
   ]
  },
  {
   "cell_type": "code",
   "execution_count": 48,
   "metadata": {
    "execution": {
     "iopub.execute_input": "2021-02-13T00:43:23.377282Z",
     "iopub.status.busy": "2021-02-13T00:43:23.376656Z",
     "iopub.status.idle": "2021-02-13T00:43:23.382919Z",
     "shell.execute_reply": "2021-02-13T00:43:23.382343Z"
    },
    "papermill": {
     "duration": 0.078149,
     "end_time": "2021-02-13T00:43:23.383058",
     "exception": false,
     "start_time": "2021-02-13T00:43:23.304909",
     "status": "completed"
    },
    "tags": []
   },
   "outputs": [
    {
     "data": {
      "text/plain": [
       "{'Original fit': {'weighted_f1': 78.85},\n",
       " 'BalancedRF fit': {'weighted_f1': 51.78},\n",
       " 'US RF fit': {'weighted_f1': 27.35},\n",
       " 'OS RF fit': {'weighted_f1': 80.0},\n",
       " 'Kbest RF fit': {'weighted_f1': 82.24},\n",
       " 'Kbest+OS RF fit': {'weighted_f1': 79.58}}"
      ]
     },
     "execution_count": 48,
     "metadata": {},
     "output_type": "execute_result"
    }
   ],
   "source": [
    "RF_scores"
   ]
  },
  {
   "cell_type": "markdown",
   "metadata": {
    "papermill": {
     "duration": 0.07056,
     "end_time": "2021-02-13T00:43:23.523240",
     "exception": false,
     "start_time": "2021-02-13T00:43:23.452680",
     "status": "completed"
    },
    "tags": []
   },
   "source": [
    "# Cross validation <a class=\"anchor\" id=\"CV\"></a>"
   ]
  },
  {
   "cell_type": "markdown",
   "metadata": {
    "papermill": {
     "duration": 0.069238,
     "end_time": "2021-02-13T00:43:23.663043",
     "exception": false,
     "start_time": "2021-02-13T00:43:23.593805",
     "status": "completed"
    },
    "tags": []
   },
   "source": [
    "took the best option and preformed cross validation on it."
   ]
  },
  {
   "cell_type": "code",
   "execution_count": 49,
   "metadata": {
    "execution": {
     "iopub.execute_input": "2021-02-13T00:43:23.809699Z",
     "iopub.status.busy": "2021-02-13T00:43:23.809052Z",
     "iopub.status.idle": "2021-02-13T00:43:37.381762Z",
     "shell.execute_reply": "2021-02-13T00:43:37.382220Z"
    },
    "papermill": {
     "duration": 13.648698,
     "end_time": "2021-02-13T00:43:37.382413",
     "exception": false,
     "start_time": "2021-02-13T00:43:23.733715",
     "status": "completed"
    },
    "tags": []
   },
   "outputs": [
    {
     "name": "stdout",
     "output_type": "stream",
     "text": [
      "Mean ROC AUC: 0.827\n",
      "Mean ROC AUC: 0.841\n"
     ]
    }
   ],
   "source": [
    "X_new = X_test[selected_feature_names_k]\n",
    "y_new = y_test\n",
    "\n",
    "DT_crossValidation(X_new, y_new)\n",
    "RF_crossValidation(X_new, y_new)"
   ]
  },
  {
   "cell_type": "markdown",
   "metadata": {
    "papermill": {
     "duration": 0.070712,
     "end_time": "2021-02-13T00:43:37.523647",
     "exception": false,
     "start_time": "2021-02-13T00:43:37.452935",
     "status": "completed"
    },
    "tags": []
   },
   "source": [
    "Handling the unbalanced data was challenging and interesting. \n",
    "I tried few approaches during the process, and in the end, I chose the one with the best accuracy.\n",
    "\n",
    "The approaches I tried included use of Balanced DT and Balanced RF which resulted not very good results.\n",
    "Use of Under Sample resulted bad results and use of Over Sample was better.\n",
    "Use of select K best (with ranges of k values to find the best), and use of select K best combined with Over Sample.\n",
    "\n",
    "Finally, I used cross validation to validate the highest approach results \n",
    "(The best accuracy approach: RF with selectKbest of k=25).\n"
   ]
  },
  {
   "cell_type": "markdown",
   "metadata": {
    "papermill": {
     "duration": 0.069929,
     "end_time": "2021-02-13T00:43:37.666863",
     "exception": false,
     "start_time": "2021-02-13T00:43:37.596934",
     "status": "completed"
    },
    "tags": []
   },
   "source": [
    " [go back up](#UP)\n"
   ]
  }
 ],
 "metadata": {
  "kernelspec": {
   "display_name": "Python 3",
   "language": "python",
   "name": "python3"
  },
  "language_info": {
   "codemirror_mode": {
    "name": "ipython",
    "version": 3
   },
   "file_extension": ".py",
   "mimetype": "text/x-python",
   "name": "python",
   "nbconvert_exporter": "python",
   "pygments_lexer": "ipython3",
   "version": "3.7.6"
  },
  "papermill": {
   "default_parameters": {},
   "duration": 85.925838,
   "end_time": "2021-02-13T00:43:38.447247",
   "environment_variables": {},
   "exception": null,
   "input_path": "__notebook__.ipynb",
   "output_path": "__notebook__.ipynb",
   "parameters": {},
   "start_time": "2021-02-13T00:42:12.521409",
   "version": "2.2.2"
  }
 },
 "nbformat": 4,
 "nbformat_minor": 4
}
